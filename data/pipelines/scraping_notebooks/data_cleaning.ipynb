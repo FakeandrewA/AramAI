{
 "cells": [
  {
   "cell_type": "code",
   "execution_count": null,
   "id": "fffb4cde",
   "metadata": {},
   "outputs": [],
   "source": [
    "path = \"../scraped_data/stateacts\"\n",
    "import os\n",
    "files = os.listdir(path)"
   ]
  },
  {
   "cell_type": "code",
   "execution_count": 92,
   "id": "ce0e2f69",
   "metadata": {},
   "outputs": [
    {
     "data": {
      "text/plain": [
       "'punjab-act.json'"
      ]
     },
     "execution_count": 92,
     "metadata": {},
     "output_type": "execute_result"
    }
   ],
   "source": [
    "files.pop(0)"
   ]
  },
  {
   "cell_type": "code",
   "execution_count": 93,
   "id": "2d930d5b",
   "metadata": {},
   "outputs": [
    {
     "ename": "IndexError",
     "evalue": "list index out of range",
     "output_type": "error",
     "traceback": [
      "\u001b[31m---------------------------------------------------------------------------\u001b[39m",
      "\u001b[31mIndexError\u001b[39m                                Traceback (most recent call last)",
      "\u001b[36mCell\u001b[39m\u001b[36m \u001b[39m\u001b[32mIn[93]\u001b[39m\u001b[32m, line 2\u001b[39m\n\u001b[32m      1\u001b[39m \u001b[38;5;28;01mimport\u001b[39;00m\u001b[38;5;250m \u001b[39m\u001b[34;01mjson\u001b[39;00m\n\u001b[32m----> \u001b[39m\u001b[32m2\u001b[39m \u001b[38;5;28;01mwith\u001b[39;00m \u001b[38;5;28mopen\u001b[39m(path + \u001b[33m\"\u001b[39m\u001b[33m/\u001b[39m\u001b[33m\"\u001b[39m + \u001b[43mfiles\u001b[49m\u001b[43m[\u001b[49m\u001b[32;43m0\u001b[39;49m\u001b[43m]\u001b[49m, \u001b[33m'\u001b[39m\u001b[33mr\u001b[39m\u001b[33m'\u001b[39m, encoding=\u001b[33m'\u001b[39m\u001b[33mutf-8\u001b[39m\u001b[33m'\u001b[39m) \u001b[38;5;28;01mas\u001b[39;00m f:\n\u001b[32m      3\u001b[39m     data = json.load(f)\n\u001b[32m      4\u001b[39m data\n",
      "\u001b[31mIndexError\u001b[39m: list index out of range"
     ]
    }
   ],
   "source": [
    "import json\n",
    "with open(path + \"/\" + files[0], 'r', encoding='utf-8') as f:\n",
    "    data = json.load(f)\n",
    "data"
   ]
  },
  {
   "cell_type": "code",
   "execution_count": 50,
   "id": "3f880e6c",
   "metadata": {},
   "outputs": [],
   "source": [
    "def change_discrepancy(actual_year, stated_year,data):\n",
    "    if data.get(actual_year) is None:\n",
    "        data[actual_year] = []\n",
    "        data[\"document_count\"][actual_year] = 0\n",
    "    data[actual_year].extend(data[stated_year])\n",
    "    del data[stated_year]\n",
    "    data[\"document_count\"][actual_year]+=1\n",
    "    del data[\"document_count\"][stated_year]\n",
    "\n",
    "    \n",
    "def save_data(file_path, data):\n",
    "    with open(file_path, 'w', encoding='utf-8') as f:\n",
    "        json.dump(data, f, ensure_ascii=False, indent=4)"
   ]
  },
  {
   "cell_type": "code",
   "execution_count": 85,
   "id": "fc093d82",
   "metadata": {},
   "outputs": [],
   "source": [
    "change_discrepancy(\"1991\",\"2991\",data)\n",
    "save_data(path + \"/\" + files[0], data)\n"
   ]
  },
  {
   "cell_type": "markdown",
   "id": "4207a78a",
   "metadata": {},
   "source": [
    "## Checking for missing data"
   ]
  },
  {
   "cell_type": "code",
   "execution_count": 7,
   "id": "8219c5d0",
   "metadata": {},
   "outputs": [],
   "source": [
    "import json\n",
    "from time import sleep\n",
    "from bs4 import BeautifulSoup\n",
    "import requests"
   ]
  },
  {
   "cell_type": "code",
   "execution_count": 8,
   "id": "9b3a21a2",
   "metadata": {},
   "outputs": [],
   "source": [
    "path = \"../scraped_data/stateacts\"\n",
    "import os\n",
    "files = os.listdir(path)"
   ]
  },
  {
   "cell_type": "code",
   "execution_count": 9,
   "id": "dd9054d6",
   "metadata": {},
   "outputs": [
    {
     "data": {
      "text/plain": [
       "['andhra-act.json',\n",
       " 'arunachal-act.json',\n",
       " 'assam-act.json',\n",
       " 'bihar-act.json',\n",
       " 'chandigarh-act.json',\n",
       " 'chattisgarh-act.json',\n",
       " 'delhi-act.json',\n",
       " 'goa-act.json',\n",
       " 'gujarat-act.json',\n",
       " 'haryana-act.json',\n",
       " 'himachal-act.json',\n",
       " 'jharkhand-act.json',\n",
       " 'jk-act.json',\n",
       " 'karnataka-act.json',\n",
       " 'madhyabharat-act.json',\n",
       " 'manipur-act.json',\n",
       " 'meghalaya-act.json',\n",
       " 'mh-act.json',\n",
       " 'mizoram-act.json',\n",
       " 'mp-act.json',\n",
       " 'nagaland-act.json',\n",
       " 'odisha-act.json',\n",
       " 'puducherry-act.json',\n",
       " 'punjab-act.json']"
      ]
     },
     "execution_count": 9,
     "metadata": {},
     "output_type": "execute_result"
    }
   ],
   "source": [
    "files"
   ]
  },
  {
   "cell_type": "code",
   "execution_count": 10,
   "id": "6f2d07d3",
   "metadata": {},
   "outputs": [],
   "source": [
    "def check_missing_data(filename):\n",
    "    with open(path+\"/\"+filename, 'r', encoding='utf-8') as f:\n",
    "        data = json.load(f)\n",
    "    missing_data = []\n",
    "    for year in list(data.keys())[:-1]:\n",
    "        for doc in data[year]:\n",
    "            if doc[\"data\"]==\"\":\n",
    "                print(f\"Missing data in file: {filename}, year: {year}, doc id: {doc['doc_id']}\")\n",
    "                missing_data.append((filename, year, doc['doc_id']))\n",
    "    return missing_data\n",
    "\n"
   ]
  },
  {
   "cell_type": "code",
   "execution_count": 23,
   "id": "8f77056f",
   "metadata": {},
   "outputs": [
    {
     "name": "stdout",
     "output_type": "stream",
     "text": [
      "Missing data in file: assam-act.json, year: 2022, doc id: 6b7d93e6-7796-4bf5-beb7-8920c552df8b\n",
      "Missing data in file: odisha-act.json, year: 1956, doc id: 82c1efb3-77c8-4827-a90f-771cf10350d6\n",
      "Missing data in file: puducherry-act.json, year: 1970, doc id: d5d6e5c1-f78a-4621-9df9-74d56ed722f7\n"
     ]
    }
   ],
   "source": [
    "missing_data = []\n",
    "\n",
    "for file in files:\n",
    "    w = check_missing_data(file)\n",
    "    if w:  # only add if it's not None or empty\n",
    "        missing_data.extend(w)  # extend because w can be a list of tuples\n"
   ]
  },
  {
   "cell_type": "code",
   "execution_count": 12,
   "id": "de214bf9",
   "metadata": {},
   "outputs": [],
   "source": [
    "BASE_URL = \"https://indiankanoon.org\"\n",
    "HEADERS = {\n",
    "    \"User-Agent\": (\n",
    "        \"Mozilla/5.0 (Windows NT 10.0; Win64; x64) \"\n",
    "        \"AppleWebKit/537.36 (KHTML, like Gecko) \"\n",
    "        \"Chrome/115.0 Safari/537.36\"\n",
    "    )\n",
    "}\n",
    "def attach_missing_data(link):\n",
    "    print(f\"Fetching data for link: {link}\")\n",
    "\n",
    "    data, success = \"\", False\n",
    "    for attempt in range(3):  # try max 3 times\n",
    "        try:\n",
    "            response = requests.get(link, headers=HEADERS, timeout=10)\n",
    "            response.raise_for_status()\n",
    "            sleep(2)  # polite delay\n",
    "\n",
    "            soup = BeautifulSoup(response.text, \"html.parser\")\n",
    "            container = soup.find(\"div\", class_=\"akn-akomaNtoso\")\n",
    "            if container:\n",
    "                data = container.get_text(\" \", strip=True)\n",
    "                success = True\n",
    "                break\n",
    "        except Exception as e:\n",
    "            print(f\"Attempt {attempt+1} -> {e}\")\n",
    "            sleep(3)\n",
    "\n",
    "    if not success:\n",
    "        print(f\"❌ Could not fetch data \")\n",
    "    \n",
    "    return data\n"
   ]
  },
  {
   "cell_type": "code",
   "execution_count": null,
   "id": "0690c9d8",
   "metadata": {},
   "outputs": [],
   "source": [
    "def add_missing_data(filename, year, doc_id):\n",
    "    with open(path+\"/\"+filename, 'r', encoding='utf-8') as f:\n",
    "        data = json.load(f)\n",
    "\n",
    "    for doc in data[year]:\n",
    "        if doc[\"doc_id\"] == doc_id:\n",
    "            link = doc[\"link\"]\n",
    "            temp_data =  attach_missing_data(link)\n",
    "            doc[\"data\"] = temp_data\n",
    "            \n",
    "            \n",
    "    with open(path+\"/\"+filename, 'w', encoding='utf-8') as f:\n",
    "        json.dump(data, f, ensure_ascii=False, indent=4)\n",
    "\n",
    "        "
   ]
  },
  {
   "cell_type": "code",
   "execution_count": null,
   "id": "75862566",
   "metadata": {},
   "outputs": [
    {
     "data": {
      "text/plain": [
       "<!DOCTYPE HTML PUBLIC \"-//W3C//DTD HTML 4.01//EN\"\n",
       "\"http://www.w3.org/TR/html4/strict.dtd\">\n",
       "\n",
       "<html>\n",
       "<head>\n",
       "<meta content=\"text/html; charset=utf-8\" http-equiv=\"content-type\"/>\n",
       "<link href=\"/static/js/jquery-ui-1.13.2/jquery-ui.min.css\" rel=\"stylesheet\" type=\"text/css\"/>\n",
       "<link href=\"/static/js/jquery-ui-1.13.2/jquery-ui.theme.min.css\" rel=\"stylesheet\" type=\"text/css\"/>\n",
       "<link href=\"/static/search_desktop_v20.css\" rel=\"stylesheet\" type=\"text/css\"/>\n",
       "<!-- Google tag (gtag.js) -->\n",
       "<script async=\"\" src=\"https://www.googletagmanager.com/gtag/js?id=G-HML2J37TKY\"></script>\n",
       "<script>\n",
       "        window.dataLayer = window.dataLayer || [];\n",
       "        function gtag(){dataLayer.push(arguments);}\n",
       "            gtag('js', new Date());\n",
       "            gtag('config', 'G-HML2J37TKY');\n",
       "    </script>\n",
       "<title>The Orissa Boiler Attendants' Rules, 1956</title>\n",
       "</head>\n",
       "<body>\n",
       "<div id=\"tophdr\">\n",
       "<button id=\"sharelink\" type=\"submit\">Share Link</button>\n",
       "<form action=\"/change_device/?device=mobile&amp;nextpage=/doc/42992215/\" id=\"website_device_form\" method=\"post\"><button id=\"website_device\" type=\"submit\">Mobile View</button></form>\n",
       "<div class=\"topindex\">\n",
       "<a href=\"/\">\n",
       "<img alt=\"logo\" class=\"doc_logo\" src=\"/static/pics/indiankanoon_top_transparent.png\"/>\n",
       "</a>\n",
       "<div class=\"searchbox_top\">\n",
       "<a href=\"/free_features/\">Free features</a>\n",
       "<a href=\"/premium/\">Premium features</a>\n",
       "<a href=\"/court_case_online.html\">Case removal</a>\n",
       "</div>\n",
       "</div>\n",
       "</div>\n",
       "<div class=\"hdrtop\">\n",
       "<form action=\"/search/\" id=\"search-form\" method=\"GET\">\n",
       "<input class=\"doc_searchbox\" id=\"search-box\" name=\"formInput\" type=\"text\" value=\"\"/>\n",
       "<input class=\"result_submitbutton\" id=\"submit-button\" type=\"submit\" value=\"Search\"/>\n",
       "</form>\n",
       "</div>\n",
       "<div class=\"docoptions\">\n",
       "<a href=\"#\" id=\"tanslatewarn\">Warning on translation</a>\n",
       "<form action=\"/doc/138285496/\" method=\"POST\">\n",
       "<input name=\"type\" type=\"hidden\" value=\"pdf\"/>\n",
       "<button id=\"pdfdoc\" type=\"submit\">Get this document in PDF</button>\n",
       "</form>\n",
       "<form action=\"/doc/138285496/\" method=\"POST\">\n",
       "<input name=\"type\" type=\"hidden\" value=\"print\"/>\n",
       "<button id=\"printdoc\" type=\"submit\">Print it on a file/printer</button>\n",
       "</form>\n",
       "</div>\n",
       "<div id=\"google_translate_element\"></div>\n",
       "<div id=\"structuralanal\"></div>\n",
       "<div id=\"citetextdash\"></div>\n",
       "<div class=\"covers\">\n",
       "<span class=\"citetop\">[Cites <a href=\"/search/?formInput=cites:42992215\">0</a>, Cited by <a href=\"/search/?formInput=citedby:42992215\">0</a>]</span>\n",
       "</div>\n",
       "<div class=\"right_doc_nav\">\n",
       "<div class=\"category\" id=\"toc\"></div>\n",
       "</div>\n",
       "<div class=\"akoma-ntoso\">\n",
       "<div class=\"ad_doc\">\n",
       "<p>Take notes as you read a judgment using our <a href=\"/premium/#vla\">Virtual Legal Assistant</a> and get email alerts whenever a new judgment matches your query (<a href=\"/premium/#queryalert\">Query Alert Service</a>). Try out our <a href=\"/premium/\">Premium Member Services</a> -- <a href=\"/members/signup/\">Sign up today</a> and get free trial for one month.</p>\n",
       "</div>\n",
       "<h2 class=\"docsource_main\">State of Odisha - Act</h2>\n",
       "<h2 class=\"doc_title\">The Orissa Boiler Attendants' Rules, 1956</h2>\n",
       "<html><head></head><body><div class=\"coverpage\">\n",
       "<div class=\"place-name\">\n",
       "      ODISHA<br/>\n",
       "      India\n",
       "    </div>\n",
       "<h1>The Orissa Boiler Attendants' Rules, 1956</h1>\n",
       "<h2>Act 3 of 1956</h2>\n",
       "<ul class=\"notice-list\">\n",
       "<li class=\"publication-info\">\n",
       "            Published on 13 March 1956\n",
       "          </li>\n",
       "<li class=\"commencement-date\">\n",
       "              \n",
       "                Commenced on 13 March 1956\n",
       "              \n",
       "              \n",
       "                \n",
       "              \n",
       "            </li>\n",
       "<li class=\"as-at-date-notice\">\n",
       "            [This is the version of this document as it was from 6 November 1956 to None.]\n",
       "          </li>\n",
       "<li class=\"verification-notice\">\n",
       "            [Note: The original publication document is not available and this content could not be verified.]\n",
       "          </li>\n",
       "</ul>\n",
       "</div>\n",
       "<div class=\"akn-akomaNtoso\" id=\"div_1\"><span class=\"akn-act\" data-name=\"act\"><span class=\"akn-body\"><section class=\"akn-section\"></section></span></span></div>\n",
       "<script>(function(){function c(){var b=a.contentDocument||a.contentWindow.document;if(b){var d=b.createElement('script');d.innerHTML=\"window.__CF$cv$params={r:'979781743f817f44',t:'MTc1NjkyNjE5MC4wMDAwMDA='};var a=document.createElement('script');a.nonce='';a.src='/cdn-cgi/challenge-platform/scripts/jsd/main.js';document.getElementsByTagName('head')[0].appendChild(a);\";b.getElementsByTagName('head')[0].appendChild(d)}}if(document.body){var a=document.createElement('iframe');a.height=1;a.width=1;a.style.position='absolute';a.style.top=0;a.style.left=0;a.style.border='none';a.style.visibility='hidden';document.body.appendChild(a);if('loading'!==document.readyState)c();else if(window.addEventListener)document.addEventListener('DOMContentLoaded',c);else{var e=document.onreadystatechange||function(){};document.onreadystatechange=function(b){e(b);'loading'!==document.readyState&&(document.onreadystatechange=e,c())}}}})();</script></body></html>\n",
       "</div>\n",
       "<script src=\"/static/js/jquery-3.6.1.min.js\" type=\"text/javascript\"></script>\n",
       "<script src=\"/static/js/jquery-ui-1.13.2/jquery-ui.min.js\" type=\"text/javascript\"></script>\n",
       "<script src=\"/static/js/pylaw/utils_v13.js\" type=\"text/javascript\"></script>\n",
       "<script src=\"/static/js/pylaw/share_url.js\" type=\"text/javascript\"></script>\n",
       "<script type=\"text/javascript\">\n",
       "    $(document).ready( \n",
       "        function () {\n",
       "           $(\"#search-box\").autocomplete({ source: \"/qsuggest/\",  delay:300, minLength: 3});\n",
       "\n",
       "           $[ \"ui\" ][ \"autocomplete\" ].prototype[\"_renderItem\"] = function( ul, item) {\n",
       "               return $( \"<li></li>\" ) \n",
       "                      .data( \"item.autocomplete\", item )\n",
       "                      .append( $( \"<a></a>\" ).html( item.label ) )\n",
       "                      .appendTo( ul );\n",
       "           };\n",
       "    }); \n",
       "</script>\n",
       "<script src=\"https://translate.google.com/translate_a/element.js?cb=googleTranslateElementInit\" type=\"text/javascript\">\n",
       "</script>\n",
       "<script type=\"text/javascript\">\n",
       "$(document).ready( \n",
       "  function () {\n",
       "      $('#submit-button').button({ \n",
       "          icon: 'ui-icon-search', \n",
       "          classes: {\n",
       "              'ui-button': 'ui-corner-all'\n",
       "          }\n",
       "      });\n",
       "      $('#pdfdoc').button({icons: {primary: 'ui-icon-document'}});\n",
       "      $('#printdoc').button({icons: {primary: 'ui-icon-print'}});\n",
       "      $('#courtcopysubmit').button({icons: {primary: 'ui-icon-arrowthickstop-1-s'}});\n",
       "      $('#courtcopyform').submit(function (e) {\n",
       "          \n",
       "          signupForDownload();\n",
       "          e.preventDefault();    \n",
       "\t  \n",
       "          \n",
       "      });\n",
       "      $('#tanslatewarn').click(function (e) {\n",
       "          var newDiv = $(\"<div></div>\");\n",
       "\t  var params =  {title: 'Warning on translation',  closeText: \"\", width: 450};\n",
       "\t  newDiv.html('<p>The option to translate the legal documents is to overcome language barriers and for broader understanding but should not be considered as <b>authoritative text</b> for any official purpose.</p> <p>As pointed out, translation of legal texts <a href=\"https://twitter.com/Banbreach/status/1585206506743427073\" target=\"_blank\">may be inaccurate</a>. So beware of it when using the translate feature. Lastly, translations here are provided by Google Translate and we do not warrant its accuracy.</p>');\n",
       "\t  modify_dialog_params(params);\n",
       "          $(newDiv).dialog(params);\n",
       "\n",
       "      });\n",
       "  }\n",
       "); \n",
       "</script>\n",
       "<script type=\"text/javascript\">\n",
       "function googleTranslateElementInit() {\n",
       "  new google.translate.TranslateElement({pageLanguage: 'en'}, 'google_translate_element');\n",
       "}\n",
       "</script>\n",
       "<script src=\"/static/js/pylaw/structure_v2.js\" type=\"text/javascript\"></script>\n",
       "<script type=\"text/javascript\">\n",
       "    $(document).ready(function () {\n",
       "        $('#tanslatewarn').button({icons: {primary: 'ui-icon-info'}});\n",
       "        $('.searchbox_top a').button();\n",
       "\t$('#casemonitor').button({'icon': 'ui-icon-alert'}).click({'valid_ag': '', 'is_valid': '', 'is_auth': 'False', 'is_agreement': 'False', 'headline': 'judgments that cite this document. Query alert for'}, registerEmailAlert);\n",
       "});    \n",
       "</script>\n",
       "</body>\n",
       "</html>"
      ]
     },
     "execution_count": 17,
     "metadata": {},
     "output_type": "execute_result"
    }
   ],
   "source": [
    "link = \"https://indiankanoon.org/doc/42992215/\"\n",
    "response = requests.get(link,headers=HEADERS)\n",
    "soup = BeautifulSoup(response.content,\"html.parser\")\n",
    "soup.find(\"div\",class_=\"\")"
   ]
  },
  {
   "cell_type": "code",
   "execution_count": 26,
   "id": "ccad2fe3",
   "metadata": {},
   "outputs": [
    {
     "name": "stdout",
     "output_type": "stream",
     "text": [
      "Fetching data for link: https://indiankanoon.org/doc/198591931/\n",
      "Attempt 1 -> 429 Client Error: Too Many Requests for url: https://indiankanoon.org/doc/198591931/\n"
     ]
    }
   ],
   "source": [
    "add_missing_data(missing_data[2][0],missing_data[2][1],missing_data[2][2])"
   ]
  },
  {
   "cell_type": "code",
   "execution_count": null,
   "id": "a6e2db1c",
   "metadata": {},
   "outputs": [],
   "source": []
  }
 ],
 "metadata": {
  "kernelspec": {
   "display_name": ".venv",
   "language": "python",
   "name": "python3"
  },
  "language_info": {
   "codemirror_mode": {
    "name": "ipython",
    "version": 3
   },
   "file_extension": ".py",
   "mimetype": "text/x-python",
   "name": "python",
   "nbconvert_exporter": "python",
   "pygments_lexer": "ipython3",
   "version": "3.12.3"
  }
 },
 "nbformat": 4,
 "nbformat_minor": 5
}
