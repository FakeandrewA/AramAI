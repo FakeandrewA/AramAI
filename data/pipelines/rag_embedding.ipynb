{
 "cells": [
  {
   "cell_type": "markdown",
   "id": "c1c51031",
   "metadata": {},
   "source": [
    "## Analysis"
   ]
  },
  {
   "cell_type": "code",
   "execution_count": 5,
   "id": "82aab922",
   "metadata": {},
   "outputs": [],
   "source": [
    "import os"
   ]
  },
  {
   "cell_type": "code",
   "execution_count": 20,
   "id": "9d7b18b6",
   "metadata": {},
   "outputs": [],
   "source": [
    "files = os.listdir(\"../scraped_data/stateacts\")"
   ]
  },
  {
   "cell_type": "code",
   "execution_count": 21,
   "id": "c134addb",
   "metadata": {},
   "outputs": [],
   "source": [
    "import json\n",
    "import re\n",
    "import matplotlib.pyplot as plt"
   ]
  },
  {
   "cell_type": "code",
   "execution_count": 23,
   "id": "92c93224",
   "metadata": {},
   "outputs": [
    {
     "data": {
      "text/plain": [
       "14225"
      ]
     },
     "execution_count": 23,
     "metadata": {},
     "output_type": "execute_result"
    }
   ],
   "source": [
    "doc_count = 0\n",
    "for file in files:\n",
    "    with open(f\"../scraped_data/stateacts/{file}\",\"r\",encoding=\"utf-8\") as f:\n",
    "        x = json.load(f)\n",
    "    years = list(x.keys())[:-1]\n",
    "    doc_len = [ (doc[\"doc_id\"]) for year in years for doc in x[year]]\n",
    "    doc_count += len(doc_len)\n",
    "doc_count"
   ]
  },
  {
   "cell_type": "code",
   "execution_count": 12,
   "id": "d08b92a9",
   "metadata": {},
   "outputs": [],
   "source": [
    "years = list(x.keys())[:-1]\n",
    "doc_len = [ (year,doc[\"doc_id\"]) for year in years for doc in x[year]]\n"
   ]
  },
  {
   "cell_type": "code",
   "execution_count": 13,
   "id": "540a37a7",
   "metadata": {},
   "outputs": [
    {
     "data": {
      "text/plain": [
       "9"
      ]
     },
     "execution_count": 13,
     "metadata": {},
     "output_type": "execute_result"
    }
   ],
   "source": [
    "len(doc_len)"
   ]
  },
  {
   "cell_type": "markdown",
   "id": "ca3d4140",
   "metadata": {},
   "source": [
    "## Make IndiaLaws docs as a single file"
   ]
  },
  {
   "cell_type": "code",
   "execution_count": 36,
   "id": "ee857228",
   "metadata": {},
   "outputs": [],
   "source": [
    "import os\n",
    "import json\n",
    "path=\"../scraped_data/indialaws\"\n",
    "files = os.listdir(path)"
   ]
  },
  {
   "cell_type": "code",
   "execution_count": 40,
   "id": "3c62c845",
   "metadata": {},
   "outputs": [
    {
     "name": "stderr",
     "output_type": "stream",
     "text": [
      "Processing: 100%|██████████| 52/52 [00:00<00:00, 856.26it/s]\n",
      "Processing: 100%|██████████| 31/31 [00:00<00:00, 381.33it/s]\n",
      "Processing: 100%|██████████| 166/166 [00:05<00:00, 32.43it/s]\n",
      "Processing: 100%|██████████| 9/9 [00:00<00:00, 592.24it/s]\n"
     ]
    }
   ],
   "source": [
    "from datapreprocessing.json_to_docs import convert_json_to_docs\n",
    "india_law_docs = []\n",
    "for file in files:\n",
    "    india_law_docs.extend(convert_json_to_docs(path+\"/\"+file))"
   ]
  },
  {
   "cell_type": "code",
   "execution_count": 42,
   "id": "f66ae371",
   "metadata": {},
   "outputs": [
    {
     "data": {
      "text/plain": [
       "55153"
      ]
     },
     "execution_count": 42,
     "metadata": {},
     "output_type": "execute_result"
    }
   ],
   "source": [
    "len(india_law_docs)"
   ]
  },
  {
   "cell_type": "markdown",
   "id": "40b07f22",
   "metadata": {},
   "source": [
    "## Random Docs Selections from JSON\n"
   ]
  },
  {
   "cell_type": "code",
   "execution_count": 3,
   "id": "be8c7f91",
   "metadata": {},
   "outputs": [],
   "source": [
    "import json\n",
    "import numpy as np\n",
    "import random"
   ]
  },
  {
   "cell_type": "code",
   "execution_count": 4,
   "id": "6bb0ae23",
   "metadata": {},
   "outputs": [],
   "source": [
    "def randomly_select_docs(json_file,return_json_filename,sampling_size):\n",
    "    with open(json_file, \"r\", encoding=\"utf-8\") as f:\n",
    "        raw_data = json.load(f)\n",
    "    random_dict = {}\n",
    "    years = list(raw_data.keys())[:-1]\n",
    "    np.random.shuffle(years)\n",
    "    for year in years:\n",
    "        k = min(sampling_size, len(raw_data[year]))\n",
    "        random_dict[year] = random.sample(raw_data[year],k)\n",
    "    with open(f\"./{return_json_filename}.json\",\"w\",encoding=\"utf-8\") as f:\n",
    "        json.dump(random_dict,f,indent=4,ensure_ascii=False)"
   ]
  },
  {
   "cell_type": "markdown",
   "id": "931f7f74",
   "metadata": {},
   "source": [
    "## JSON to Documents"
   ]
  },
  {
   "cell_type": "code",
   "execution_count": 43,
   "id": "4390429e",
   "metadata": {},
   "outputs": [],
   "source": [
    "from datapreprocessing.json_to_docs import convert_json_to_docs\n",
    "import os\n",
    "import json\n",
    "path=\"../scraped_data/indialaws\"\n",
    "files = os.listdir(path)"
   ]
  },
  {
   "cell_type": "code",
   "execution_count": 44,
   "id": "c589522f",
   "metadata": {},
   "outputs": [
    {
     "name": "stderr",
     "output_type": "stream",
     "text": [
      "Processing: 100%|██████████| 52/52 [00:00<00:00, 925.56it/s]\n",
      "Processing: 100%|██████████| 31/31 [00:00<00:00, 359.45it/s]\n",
      "Processing: 100%|██████████| 166/166 [00:05<00:00, 32.72it/s]\n",
      "Processing: 100%|██████████| 9/9 [00:00<00:00, 524.68it/s]\n"
     ]
    }
   ],
   "source": [
    "documents = []\n",
    "for file in files:\n",
    "    documents.extend(convert_json_to_docs(path+\"/\"+file))"
   ]
  },
  {
   "cell_type": "markdown",
   "id": "4a643fe0",
   "metadata": {},
   "source": [
    "## Chunking"
   ]
  },
  {
   "cell_type": "code",
   "execution_count": 45,
   "id": "651bd0b9",
   "metadata": {},
   "outputs": [],
   "source": [
    "from datapreprocessing.docs_to_chunks import convert_docs_to_chunks"
   ]
  },
  {
   "cell_type": "code",
   "execution_count": 46,
   "id": "41f8c0e3",
   "metadata": {},
   "outputs": [
    {
     "name": "stderr",
     "output_type": "stream",
     "text": [
      "Processing: 100%|██████████| 55153/55153 [00:17<00:00, 3082.70it/s]\n"
     ]
    }
   ],
   "source": [
    "chunks = convert_docs_to_chunks(documents)"
   ]
  },
  {
   "cell_type": "markdown",
   "id": "d5775d76",
   "metadata": {},
   "source": [
    "## Context Enrichment"
   ]
  },
  {
   "cell_type": "markdown",
   "id": "0ad33232",
   "metadata": {},
   "source": [
    "### Merge Shorter Chunks"
   ]
  },
  {
   "cell_type": "code",
   "execution_count": 47,
   "id": "512a452e",
   "metadata": {},
   "outputs": [],
   "source": [
    "from datapreprocessing.chunks_to_chunks import merge_shorter_chunks"
   ]
  },
  {
   "cell_type": "code",
   "execution_count": 48,
   "id": "ab5a309e",
   "metadata": {},
   "outputs": [
    {
     "name": "stdout",
     "output_type": "stream",
     "text": [
      "Before Processing docs:  [548, 557, 560, 603, 613, 618, 620, 622, 634, 641, 654, 656, 660, 670, 682, 685, 689, 705, 711, 741, 790, 815, 832, 837, 850, 860, 863, 866, 876, 881, 887, 891, 893, 901, 904, 906, 909, 924, 941, 944, 953, 957, 960, 963, 970, 974, 976, 981, 989, 993, 996, 1002, 1004, 1017, 1027, 1043, 1056, 1061, 1070, 1101, 1142, 1434, 1470, 1488, 1495, 1502, 1507, 1512, 1558, 1580, 1692, 1726, 1995, 2006, 2016, 2080, 2111, 2125, 2142, 2152, 2165, 2178, 2215, 2219, 2285, 2317, 2328, 2339, 2352, 2362, 2402, 2419, 2428, 2452, 2462, 2490, 2516, 2543, 2629, 2640, 2661, 2684, 2739, 2744, 2752, 2766, 2769, 2774, 2777, 2799, 2802, 2815, 2817, 2878, 3122, 3198, 3202, 3233, 3256, 3299, 3301, 3303, 3328, 3376, 3436, 3722, 3728, 3737, 3740, 3747, 3787, 3802, 3816, 3825, 3834, 3839, 3890, 3935, 3982, 4091, 4137, 4173, 4182, 4195, 4235, 4243, 4252, 4261, 4295, 4307, 4312, 4356, 4361, 4431, 4537, 4542, 4559, 4594, 4618, 4641, 5696, 5751, 5758, 5817, 5826, 6020, 6052, 6081, 6095, 6180, 6184, 6216, 6227, 6237, 6317, 6396, 6403, 6415, 6418, 6430, 6540, 6563, 6674, 6685, 6704, 6719, 6923, 6958, 6961, 7139, 7369, 7414, 7449, 7640, 7659, 7661, 7670, 7699, 7741, 7747, 7780, 8067, 8405, 8409, 8487, 8490, 8502, 8506, 9233, 9245, 9271, 9326, 9328, 9339, 9341, 9374, 9634, 9769, 9827, 9925, 9945, 10189, 11164, 11211, 11218, 11244, 11361, 11502, 11520, 11543, 11623, 11635, 11638, 11653, 11700, 11806, 12039, 12151, 12210, 12314, 12376, 12571, 12596, 12631, 12644, 12687, 12690, 12701, 12730, 12734, 12748, 12760, 13037, 13067, 13086, 13156, 13178, 13181, 13228, 13244, 13273, 13314, 13423, 13522, 13964, 14075, 14125, 14129, 14179, 14254, 14269, 14272, 14377, 14390, 14439, 14462, 14508, 14596, 14633, 14677, 14693, 14731, 14743, 14751, 14768, 14774, 14778, 14781, 15140, 15210, 15263, 15270, 15304, 15377, 15398, 15413, 15428, 15475, 15670, 15693, 15809, 15862, 15909, 15915, 15932, 15955, 15962, 16067, 16074, 16076, 16166, 16251, 16535, 16578, 16584, 16600, 16622, 16703, 16716, 16742, 16811, 16868, 17522, 17532, 17633, 17721, 17730, 17810, 17940, 18030, 18076, 18093, 18140, 18144, 19409, 19523, 19554, 19575, 19582, 19676, 19726, 19775, 19853, 19856, 19875, 19893, 20164, 20191, 20203, 20234, 20248, 20254, 20260, 20265, 20305, 20367, 20411, 20439, 20457, 20461, 20881, 20905, 20939, 20943, 21004, 21198, 21219, 21233, 21250, 21277, 21287, 21307, 21383, 21388, 21494, 21584, 22073, 22088, 22111, 22196, 22535, 22550, 22576, 22594, 22663, 22752, 22759, 22803, 22830, 22976, 23019, 23026, 23093, 23106, 23118, 23227, 23232, 23241, 23245, 23247, 23429, 23655, 23766, 24057, 24063, 24095, 24105, 24109, 24205, 24349, 24395, 24529, 24541, 24552, 24560, 24578, 24593, 24600, 24608, 24613, 24619, 24625, 24627, 26424, 26432, 26465, 26546, 26580, 26613, 26654, 26678, 26700, 26751, 26759, 26764, 26791, 26983, 27023, 27043, 27052, 27069, 27098, 27119, 27135, 27140, 27150, 27152, 27154, 28063, 28099, 28229, 28240, 28281, 28310, 28313, 28392, 28422, 28439, 28472, 28482, 28494, 28503, 28508, 28511, 28580, 28838, 28861, 28893, 28920, 28955, 29051, 29222, 29284, 29365, 29414, 29468, 29494, 29508, 29520, 29541, 29571, 29573, 29579, 29581, 29671, 29744, 29750, 29765, 30127, 30207, 30219, 30222, 30225, 30227, 30229, 30285, 30296, 30299, 30418, 30421, 30606, 30625, 30637, 30668, 30686, 30723, 30813, 30844, 30897, 30908, 30949, 31136, 31160, 31575, 31637, 31649, 31662, 31668, 31677, 31689, 31698, 31703, 31771, 31773, 32100, 32130, 32140, 32146, 32150, 32269, 32289, 32304, 32337, 32374, 32396, 32400, 32595, 32619, 32641, 32713, 32722, 32741, 32749, 32842, 32873, 32962, 33149, 33150, 33259, 33276, 33283, 33323, 33378, 33389, 33411, 33465, 33597, 33651, 33689, 33788, 33795, 33856, 33904, 33907, 34035, 34062, 34100, 34103, 34164, 34192, 34256, 34259, 34278, 34291, 34298, 34300, 34388, 34419, 34435, 34478, 34689, 34722, 34735, 34791, 34810, 34853, 34896, 34906, 34912, 34919, 35000, 35150, 35270, 35276, 35358, 35390, 35412, 35430, 35999, 36077, 36127, 36170, 36189, 36202, 36227, 36323, 36327, 36371, 36394, 36414, 36445, 36510, 36516, 36544, 36584, 36619, 36637, 36677, 36691, 36740, 36743, 36750, 36770, 36772, 36774, 36780, 36782, 36800, 36902, 36909, 36947, 36987, 37024, 37070, 37093, 37113, 37125, 37175, 37239, 37267, 37292, 37313, 37390, 37399, 37407, 37413, 37442, 37447, 37480, 37483, 37578, 37586, 37589, 37627, 37677, 37702, 37795, 37822, 37857, 37859, 37868, 37969, 38027, 38031, 38085, 38100, 38116, 38135, 38176, 38193, 38252, 38319, 38346, 38367, 38377, 38389, 38393, 38405, 38435, 38483, 38488, 38501, 38508, 38515, 38527, 38532, 38537, 38625, 38638, 38727, 38787, 38852, 39075, 39193, 39293, 39321, 39335, 39386, 39501, 39540, 39623, 39740, 39762, 39791, 39827, 39852, 39925, 39956, 39974, 40029, 40074, 40099, 40120, 40142, 40150, 40167, 40174, 40176, 40204, 40235, 40269, 40354, 40404, 40477, 40479, 40508, 40541, 40551, 40553, 40606, 40610, 40636, 40724, 40805, 40824, 40875, 40881, 40901, 40984, 41001, 41083, 41094, 41112, 41121, 41126, 41141, 41164, 41166, 41191, 41211, 41270, 41275, 41328, 41350, 41374, 41397, 41414, 41426, 41456, 41599, 41766, 41782, 41789, 41793, 41795, 41872, 41950, 42020, 42086, 42119, 42144, 42163, 42215, 42240, 42389, 42452, 42468, 42488, 42492, 42502, 42598, 42640, 42815, 42866, 42950, 43035, 43124, 43141, 43162, 43256, 43305, 43329, 43362, 43380, 43384, 43386, 43389, 43432, 43441, 43487, 43549, 43583, 43589, 43621, 43625, 43650, 43658, 43726, 43795, 43800, 44232, 44254, 44257, 44280, 44297, 44307, 44312, 44318, 44326, 44328, 44330, 44362, 44391, 44410, 44473, 44620, 44653, 44684, 44895, 45632, 45697, 45802, 45859, 45874, 45886, 45913, 45930, 45959, 46006, 46013, 46024, 46032, 46038, 46040, 46071, 46144, 46159, 46222, 46279, 46495, 46526, 46555, 46580, 46594, 46603, 46664, 46670, 46676, 46705, 46709, 46711, 46714, 46967, 47048, 47166, 47637, 47642, 47645, 47692, 47780, 47927, 48078, 48133, 48264, 48267, 48286, 48330, 48341, 48349, 48359, 48373, 48379, 48381, 48416, 48427, 48453, 48609, 48627, 48645, 48915, 48938, 48975, 48989, 49015, 49019, 49022, 49027, 49031, 49052, 49063, 49103, 49120, 49137, 49183, 49210, 49228, 49239, 49242, 49246, 49250, 49253, 49330, 49490, 49519, 49528, 49549, 49621, 49652, 49743, 49763, 49782, 49788, 49805, 49808, 49811, 49944, 49953, 49962, 49980, 50037, 50045, 50054, 50141, 50146, 50149, 50207, 50214, 50254, 50279, 50301, 50320, 50334, 50372, 50379, 50389, 50403, 50659, 50694, 50713, 50720, 50799, 50908, 50954, 51089, 51092, 51158, 51171, 51183, 51189, 51199, 51312, 51367, 51401, 51498, 51500, 51533, 51536, 51541, 51802, 51830, 51877, 51879, 51905, 51929, 51967, 51999, 52005, 52031, 52037, 52046, 52061, 52080, 52095, 52099, 52193, 52236, 52274, 52276, 52324, 52329, 52341, 52366, 52409, 52458, 52484, 52604, 52639, 52661, 52673, 52690, 52697, 52701, 52719, 52723, 52727, 52733, 52783, 52790, 52814, 52845, 52880, 52897, 52923, 52954, 52960, 52975, 52983, 53002, 53007, 53015, 53019, 53028, 53032, 53034, 53036, 53134, 53201, 53434, 53504, 53546, 53567, 53568, 53691, 53737, 53765, 53808, 53844, 53849, 53860, 53876, 53891, 53935, 53940, 53951, 53954, 53958, 53966, 53980, 53982, 54161, 54326, 54383, 54396, 54398, 54461, 54493, 54539, 54602, 54648, 54657, 54667, 54680, 54691, 54700, 54734, 54789, 54793, 54817, 54824, 54829, 54834, 54846, 54851, 54854, 54862, 54870, 54873, 54879, 54881, 54953, 55023, 55026, 55082, 55579, 55593, 55596, 55604, 55684, 55843, 55932, 55935, 56055, 56060, 56085, 56119, 56185, 56244, 56294, 56399, 56424, 56457, 56554, 56586, 56678, 56690, 56734, 56737, 56747, 56760, 56777, 56794, 56811, 56826, 56840, 56855, 56883, 56894, 56900, 56917, 56923, 56945, 56954, 56980, 56988, 57009, 57035, 57042, 57048, 57069, 57082, 57086, 57096, 57099, 57122, 57162, 57164, 57173, 57177, 57247, 57349, 57376, 57382, 57475, 57482, 57526, 57553, 57564, 57567, 57572, 57670, 57743, 57768, 57874, 57891, 57916, 57938, 57960, 57981, 58000, 58024, 58042, 58055, 58116, 58142, 58157, 58165, 58180, 58183, 58206, 58210, 58213, 58216, 58221, 58224, 58230, 58233, 58236, 58240, 58245, 58451, 58493, 58541, 58556, 58565, 58638, 58685, 58688, 58762, 58773, 58983, 58985, 59256, 59259, 59375, 59381, 59384, 59434, 59463, 59468, 59472, 59569, 59751, 59775, 59795, 59809, 59814, 59855, 59860, 59867, 59871, 59875, 59884, 59888, 59891, 59898, 59907, 59909, 59911, 59913, 59918, 59921, 60209, 60233, 60246, 60258, 60357, 60374, 60381, 60386, 60405, 60420, 60509, 60528, 60531, 60538, 60555, 60564, 60651, 60690, 60706, 60716, 60726, 60735, 60792, 60814, 60816, 60826, 60885, 60912, 60921, 60922, 61017, 61092, 61199, 61244, 61277, 61290, 61297, 61303, 61311, 61349, 61356, 61366, 61372, 61382, 61389, 61400, 61408, 61420, 61425, 61444, 61449, 61452, 61466, 61478, 61486, 61489, 61494, 61497, 61500, 61502, 61507, 61510, 61518, 61546, 61559, 61582, 61589, 61592, 61613, 61687, 61769, 61882, 61888, 61890, 62032, 62076, 62107, 62167, 62230, 62279, 62311, 62365, 62378, 62391, 62400, 62417, 62431, 62447, 62460, 62466, 62472, 62487, 62491, 62503, 62514, 62518, 62524, 62532, 62537, 62551, 62561, 62567, 62569, 62574, 62578, 62581, 62583, 62585, 62805, 62867, 62896, 62962, 62979, 62987, 62995, 63000, 63002, 63039, 63056, 63087, 63089, 63137, 63244, 63284, 63319, 63364, 63391, 63403, 63434, 63473, 63480, 63484, 63491, 63513, 63517, 63523, 63529, 63538, 63548, 63555, 63562, 63575, 63577, 63579, 63582, 63584, 63586, 63588, 63591, 63593, 63599, 63603, 63607, 63615, 63617, 63619, 63624, 63634, 63741, 64004, 64044, 64094, 64175, 64200, 64239, 64280, 65183, 65187, 65189, 65445, 65529, 65578, 65625, 65672, 65689, 65696, 65703, 65727, 65739, 65771, 65793, 65814, 65856, 65874, 65885, 65925, 65940, 65945, 65955, 65963, 65979, 65984, 65989, 66015, 66041, 66062, 66068, 66080, 66089, 66103, 66116, 66122, 66125, 66129, 66136, 66153, 66165, 66167, 66172, 66176, 66183, 66187, 66190, 66193, 66265, 66356, 66360, 66568, 66667, 66678, 66683, 66841, 66862, 66871, 66875, 67234, 67369, 67401, 67425, 67455, 67502, 67576, 67656, 67670, 67677, 67686, 67703, 67735, 67790, 67815, 67822, 67833, 67839, 67847, 67873, 67897, 67915, 67924, 67930, 67936, 67942, 67966, 67975, 67998, 68005, 68007, 68012, 68014, 68016, 68018, 68072, 68084, 68245, 68262, 68271, 68535, 68540, 68556, 68655, 68840, 69040, 69149, 69177, 69248, 69390, 69461, 69470, 69505, 69519, 69538, 69547, 69570, 69597, 69606, 69628, 69637, 69647, 69675, 69695, 69705, 69716, 69721, 69735, 69762, 69765, 69768, 69774, 69782, 69792, 69800, 69812, 69822, 69824, 69826, 69832, 69836, 69935, 70014, 70044, 70069, 70136, 70139, 70150, 70153, 70160, 70182, 70310, 70400, 70623, 70802, 70835, 70925, 70971, 71095, 71142, 71171, 71231, 71319, 71357, 71401, 71448, 71461, 71475, 71494, 71513, 71526, 71541, 71555, 71597, 71611, 71618, 71631, 71674, 71685, 71701, 71714, 71719, 71726, 71731, 71744, 71754, 71764, 71774, 71780, 71787, 71801, 71809, 71818, 71843, 71845, 71853, 71859, 71864, 71868, 71872, 71877, 71880, 71884, 71889, 71894, 71900, 71902, 71907, 71942, 72027, 72030, 72037, 72631, 72708, 72919, 72956, 72995, 73067, 73131, 73205, 73341, 73375, 73503, 73559, 73571, 73584, 73595, 73626, 73651, 73663, 73681, 73695, 73702, 73716, 73725, 73738, 73769, 73775, 73785, 73799, 73827, 73834, 73840, 73845, 73848, 73851, 73856, 73866, 74631, 74948, 75062, 75065, 75402, 75437, 75495, 75542, 75562, 75585, 75615, 75629, 75708, 75719, 75736, 75768, 75774, 75780, 75796, 75817, 75823, 75833, 75839, 75852, 75859, 75864, 75867, 75872, 75877, 75883, 75885, 75916, 76119, 76155, 76208, 76233, 76279, 76603, 76974, 77121, 77140, 77152, 77162, 77179, 77198, 77217, 77246, 77253, 77263, 77277, 77280, 77283, 77288, 77291, 77298, 77798, 77923, 77951, 77979, 78078, 78104, 78107, 78327, 78410, 78491, 78645, 78713, 78729, 78736, 78743, 78749, 78756, 78779, 78782, 78793, 78796, 78805, 78918, 78942, 78990, 79199, 79243, 79439, 79467, 79522, 79576, 79773, 80141, 80378, 80409, 80495, 80534, 80561, 80565, 80609, 80646, 80686, 80740, 80777, 80836, 80850, 80863, 80880, 80941, 80975, 80989, 80993, 81003, 81010, 81019, 81029, 81034, 81037, 81050, 81052, 81188, 81454, 81501, 81508, 83304, 83375, 83481, 83512, 83577, 83634, 83773, 83872, 83899, 83945, 84060, 84125, 84135, 84150, 84171, 84244, 84266, 84281, 84313, 84340, 84345, 84363, 84368, 84373, 84378, 84399, 84402, 84421, 84425, 84444, 84447, 84449, 84453, 84523, 84599, 84891, 85124, 85169, 85185, 85219, 85233, 85262, 85347, 85613, 85647, 85682, 85689, 86000, 86319, 86380, 86385, 86387, 86436, 86523, 86589, 86868, 86937, 87129, 87146, 87259, 87307, 87324, 87409, 87450, 87602, 87647, 87693, 87746, 87829, 87900, 88007, 88055, 88099, 88162, 88215, 88285, 88320, 88409, 88434, 88455, 88474, 88508, 88551, 88572, 88589, 88598, 88659, 88666, 88699, 88723, 88744, 88771, 88789, 88802, 88808, 88813, 88820, 88840, 88846, 88858, 88865, 88879, 88884, 88891, 88912, 88927, 88932, 88955, 88960, 88992, 88996, 89000, 89269, 89650, 89670, 89779, 90327, 90365, 90474, 90630, 90639, 90724, 90864, 90977, 91118, 91155, 91714, 91879, 91917, 91961, 91989, 92268, 92351, 92632, 92743, 92841, 93123, 93928, 93989, 94170, 94211, 94243, 94290, 94357, 94388, 94453, 94477, 94487, 94501, 94529, 94544, 94577, 94613, 94651, 94682, 94694, 94719, 94746, 94760, 94775, 94789, 94794, 94809, 94823, 94845, 94857, 94890, 94899, 94902, 94915, 94933, 95096, 95099, 95128, 95136, 95171, 95209, 95225, 95227, 95229, 95475, 95755, 95882, 96003, 96114, 96164, 96229, 96373, 96374, 96634, 96765, 96934, 97129, 97320, 97691, 98016, 98125, 98273, 98302, 98305, 98318, 98383, 98465, 98530, 98595, 98660, 98725, 98855, 99193, 99258, 99453, 99518, 99567, 99610, 99633, 99657, 99698, 99824, 99862, 99877, 99908, 99925, 99943, 100005, 100044, 100054, 100078, 100094, 100150, 100168, 100185, 100201, 100216, 100232, 100249, 100253, 100274, 100283, 100300, 100324, 100357, 100410, 100432, 100440, 100446, 100451, 100456, 100458, 100565, 100622, 100624, 100630, 100829, 100834, 100868, 100900, 100921, 100929, 101157, 101185, 101201, 101544, 101632, 101769, 101944, 101993, 102066, 102127, 102132, 102164, 102184, 102211, 102284, 102361, 102386, 102409, 102443, 102485, 102505, 102518, 102521, 102538, 102549, 102560, 102591, 102595, 102611, 102622, 102635, 102656, 102693, 102702, 102730, 102750, 102760, 102774, 102799, 102807, 102832, 102842, 102875, 102882, 102887, 102904, 102944, 102952, 102964, 102967, 102980, 102984, 102992, 102997, 103360, 103413, 103434, 103721, 103951, 104197, 104391, 104494, 104520, 104559, 104583, 104592, 104608, 104618, 104940, 104993, 105022, 105147, 105202, 105228, 105267, 105299, 105412, 105431, 105466, 105468, 105475, 105489, 105525, 105602, 105606, 105616, 105619, 105814, 105839, 105849, 105909, 105954, 105998, 106036, 106131, 106152, 106225, 106248, 106273, 106281, 106297, 106311, 106333, 106336, 106341, 106344, 106353, 106816, 107053, 107149, 107266, 107382, 107458, 107474, 107506, 107523, 107541, 107554, 107581, 107606, 107651, 107678, 107697, 107701, 107712, 107715, 107718, 107790, 107813, 107838, 107861, 107935, 107943, 108023, 108073, 108081]\n"
     ]
    },
    {
     "name": "stderr",
     "output_type": "stream",
     "text": [
      "Merging: 100%|██████████| 2147/2147 [00:00<00:00, 8005.27it/s] "
     ]
    },
    {
     "name": "stdout",
     "output_type": "stream",
     "text": [
      "Before Processing docs:  []\n"
     ]
    },
    {
     "name": "stderr",
     "output_type": "stream",
     "text": [
      "\n"
     ]
    }
   ],
   "source": [
    "chunks = merge_shorter_chunks(chunks,chunk_overlap=250,threshold=1000)"
   ]
  },
  {
   "cell_type": "markdown",
   "id": "14c63b86",
   "metadata": {},
   "source": [
    "### Add Chunk Header"
   ]
  },
  {
   "cell_type": "code",
   "execution_count": 50,
   "id": "ccc27e58",
   "metadata": {},
   "outputs": [],
   "source": [
    "from datapreprocessing.chunks_to_chunks import inject_context_to_chunks_parallel , process_chunk"
   ]
  },
  {
   "cell_type": "code",
   "execution_count": 51,
   "id": "6ec63a55",
   "metadata": {},
   "outputs": [
    {
     "name": "stderr",
     "output_type": "stream",
     "text": [
      "Processing: 100%|██████████| 106002/106002 [01:09<00:00, 1520.46it/s]\n"
     ]
    }
   ],
   "source": [
    "chunks = inject_context_to_chunks_parallel(chunks)"
   ]
  },
  {
   "cell_type": "markdown",
   "id": "c98a93c0",
   "metadata": {},
   "source": [
    "## Embedding"
   ]
  },
  {
   "cell_type": "code",
   "execution_count": 57,
   "id": "f6ba54fb",
   "metadata": {},
   "outputs": [],
   "source": [
    "from langchain_ollama import OllamaEmbeddings\n",
    "from datapreprocessing.chunks_to_embedding import embed_documents_to_qdrant"
   ]
  },
  {
   "cell_type": "code",
   "execution_count": 58,
   "id": "c7b0748e",
   "metadata": {},
   "outputs": [],
   "source": [
    "qdrant_url = \"http://localhost:6333\"\n",
    "EMBED_DIMENSION=768\n",
    "DISTANCE=\"Cosine\"\n",
    "COLLECTION_NAME=\"Union_law_docs\"\n",
    "\n",
    "embedding_model = OllamaEmbeddings(model=\"nomic-embed-text\")"
   ]
  },
  {
   "cell_type": "code",
   "execution_count": null,
   "id": "9bba4a6a",
   "metadata": {},
   "outputs": [
    {
     "name": "stderr",
     "output_type": "stream",
     "text": [
      "Embedding batches: 100%|██████████| 315/315 [04:29<00:00,  1.17it/s]"
     ]
    },
    {
     "name": "stdout",
     "output_type": "stream",
     "text": [
      "\n",
      "✅ Completed 10072 chunks in 269.44 seconds\n"
     ]
    },
    {
     "name": "stderr",
     "output_type": "stream",
     "text": [
      "\n"
     ]
    }
   ],
   "source": [
    "embed_documents_to_qdrant(\n",
    "    chunks,\n",
    "    embedding_model,\n",
    "    collection_name=COLLECTION_NAME,\n",
    "    vector_dim=EMBED_DIMENSION,\n",
    "    distance=DISTANCE\n",
    ")"
   ]
  },
  {
   "cell_type": "markdown",
   "id": "0300f1e0",
   "metadata": {},
   "source": [
    "## Retriever"
   ]
  },
  {
   "cell_type": "code",
   "execution_count": null,
   "id": "f627a3b0",
   "metadata": {},
   "outputs": [],
   "source": [
    "from qdrant_client import QdrantClient\n",
    "from langchain_qdrant import QdrantVectorStore\n",
    "qdrant_url = \"http://localhost:6333\"\n",
    "COLLECTION_NAME=\"Union_law_docs\""
   ]
  },
  {
   "cell_type": "code",
   "execution_count": null,
   "id": "04bbfbe6",
   "metadata": {},
   "outputs": [],
   "source": [
    "\n",
    "## Intialize Client\n",
    "client = QdrantClient(\n",
    "    url=qdrant_url,\n",
    "    prefer_grpc=False \n",
    ")\n",
    "\n",
    "#Create or Load VectorStore\n",
    "vectorstore = QdrantVectorStore(\n",
    "    client=client,\n",
    "    embedding=OllamaEmbeddings(model=\"nomic-embed-text\"),\n",
    "    collection_name=COLLECTION_NAME\n",
    ")"
   ]
  },
  {
   "cell_type": "code",
   "execution_count": null,
   "id": "7e41b08b",
   "metadata": {},
   "outputs": [],
   "source": [
    "#Create Retriever\n",
    "retriever = vectorstore.as_retriever()"
   ]
  },
  {
   "cell_type": "code",
   "execution_count": null,
   "id": "e18cc36d",
   "metadata": {},
   "outputs": [],
   "source": [
    "query=\"What is the penalty for me if I kill a wild animal\""
   ]
  },
  {
   "cell_type": "code",
   "execution_count": null,
   "id": "a12197ea",
   "metadata": {},
   "outputs": [
    {
     "data": {
      "text/plain": [
       "[Document(metadata={'_id': '0822205b-732c-4176-a1b9-faf3f76355f7', '_collection_name': 'Union_law_docs'}, page_content='Saving. - Nothing in this Act shall be deemed to apply to the capture or killing of a wild animal by any person in defence of himself or any other person, or to the capture or killing of any wild bird or animal in bona fide defence of property. The Schedule (i) Bustards, ducks, floricans, jungle fowl, partridges, peafowl, pheasants, pigeons quail, sand-grouse, painted snipe, spurfowl, wood-cock, nerons, egrets, rollers and kingfishers. (ii) Antelopes, asses, bison, buffaloes, deer, gazelles, goats, hares, oxen, rhinoceroses and sheep.'),\n",
       " Document(metadata={'_id': '16358dda-a79f-47c6-8fb1-f6d7ac0c1522', '_collection_name': 'Union_law_docs'}, page_content='7. Penalty for contravening section 3.-Whoever, in contravention of section 3, kills, injures or captures, or attempts to kill, injure or capture, any wild elephant, shall be punished with fine which may extend to five hundred rupees for each elephant concerned; and whoever breaks any condition contained in a license granted under this Act shall be punished with fine which may extend to five hundred rupees. Any person convicted of a second offence under this section shall be punished with imprisonment which may extend to six months, or with fine, or with both. When any person holding a license under this Act is convicted under this section, such license shall become void and shall be delivered up to the convicting Magistrate. 8. License to be produced and shown on requisition of certain officers .--Any officer of Revenue or Police, or any forest officer, who may find any person killing, injuring or attempting to kill, injure or capture, any wild elephant, except in the cases mentioned in section 3, clauses (a) and (b), may require him to produce and show a license granted to him under this Act. Any person who, on such request, wilfully ref'),\n",
       " Document(metadata={'_id': '8e29df15-64cc-469f-b92d-c538d9e4aae2', '_collection_name': 'Union_law_docs'}, page_content='6. For definition of \"Magistrate\", see s. 21, infra. 7. The word \"Chief\" rep. by Act 10 of 1914, s. 3 and the Second Schedule. 8. Subs. by Act 1 of 1898, s. 3, for the original paragraph. 9. Subs. by the A.O. 1950, for \"Provincial Government\" which had been subs. by the A.O. 1937, for \"L.G.\" 5. Particulars to be painted on conspicuous part of carriage. On any stage-carriage being licensed, the proprietor thereof shall cause the number of the license and all the other particulars of the license to be distinctly painted in the English language and character upon a conspicuous part of such stage-carriage. 6. Penalty for letting carriage without having particulars painted. The proprietor of any licensed stage-carriage who shall let such stage-carriage for hire without the particulars specified in section 3 being painted on such carriage in the manner directed in the last preceding section, shall be liable to a fine not exceeding one hundred rupees. 7. Penalty for letting for hire unlicensed carriage. Whoever lets for hire any stage-carriagewithout the same being licensed as provided by this Act, shall be liable, on a first conviction, to a fine not exceeding one hundred rupees, and on any subsequent conviction, to a fine which may extend to five hundred rupees. 8. Penalty for allowing carriage to be drawn by fewer animals or more passengers, etc., to be carried than provided by license. Any proprietor, or agent of a proprietor, or any driver of a licensed stage-carriage, who, knowingly permits such carriage to be drawn by a less number of horses, or who knowingly permits a larger number of passengers, or a greater weight of luggage, to be carried by such stage-carriage than shall be provided by the license, shall be liable on a first conviction to a fine not exceeding one hundred rupees, and on any subsequent conviction, to a fine which may extend to five hundred rupees. In every case where such stage-carriage shall be proved to have been drawn by a less number of horses, or to have carried a larger number of passengers or a greater weight of luggage, than shall be provided by the license, the proprietor of such carriage shall be held to have knowingly permitted such offence, unless he shall prove that the offence was not committed with his connivance, and that he had taken every reasonable precaution and had made reasonable provision to prevent the commission of the offence. 9. Penalty for ill-treating animals. Any person who shall cruelly beat, ill-treat, over-drive,abuse, torture or cause or procure to be cruelly beaten, ill-treated, overdriven, abused or tortured, any horse '),\n",
       " Document(metadata={'_id': 'f278cde1-bed9-4af4-93df-fe04193b823f', '_collection_name': 'Union_law_docs'}, page_content='The Wild Birds and Animals (Protection) Act, 1912 (Act No. 8 of 1912 ) Last Updated 27th June, 2019 [Dated 18th September, 1912] An Act to make better provision for the protection and preservation of certain wild birds ana animals. Whereas it is expedient to make better provision for the protection and preservation of certain wild birds and animals; It is hereby enacted as follows : 1. Short title and extent. - This Act may be called the Wild Birds and Animals (Protection) Act, 1912. 2. Application of Act. (1) This Act applies in tire first instance to the birds and animals specified in the Schedule, when in their wild state. (2) The State Government may, by notification in the Official Gazette, apply the provisions of this Act to any kind or wild bird or animal, other than those specified in the Schedule, which in its opinion, it is desirable to protect or preserve. 3. Close time. - The State Government may, by notification in the Official Gazette, declare the whole year or any part thereof to be a close time throughout the whole or any part of its territories for any kind of wild bird or animal to which this Act applies, or for female or immarare wild birds or animals of such kind; and subject to the provisions hereinafter contained, during such close time, and within the areas specified in such notification, it shall be unlawful,- (a) to capture any such bird or animal, or to kill any such bird or animal which has not been captured before the commencement of such close time; (b) to sell or buy, or offer to sell or buy, or to possess; any such bird or animal which has not been captured or killed before the commencement of such close time, or the fresh thereof; (c) if any plumage has been taken from any such bird captured or killed during such close time, to sell or Huy, or to offer to sell or buy, or to possess, such plumage. 4.')]"
      ]
     },
     "execution_count": 85,
     "metadata": {},
     "output_type": "execute_result"
    }
   ],
   "source": [
    "retriever.invoke(query)\n"
   ]
  },
  {
   "cell_type": "code",
   "execution_count": null,
   "id": "4a43ce59",
   "metadata": {},
   "outputs": [],
   "source": []
  }
 ],
 "metadata": {
  "kernelspec": {
   "display_name": ".venv",
   "language": "python",
   "name": "python3"
  },
  "language_info": {
   "codemirror_mode": {
    "name": "ipython",
    "version": 3
   },
   "file_extension": ".py",
   "mimetype": "text/x-python",
   "name": "python",
   "nbconvert_exporter": "python",
   "pygments_lexer": "ipython3",
   "version": "3.11.8"
  }
 },
 "nbformat": 4,
 "nbformat_minor": 5
}
