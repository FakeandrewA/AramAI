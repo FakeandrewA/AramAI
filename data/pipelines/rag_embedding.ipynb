{
 "cells": [
  {
   "cell_type": "markdown",
   "id": "c1c51031",
   "metadata": {},
   "source": [
    "## Analysis"
   ]
  },
  {
   "cell_type": "code",
   "execution_count": 5,
   "id": "82aab922",
   "metadata": {},
   "outputs": [],
   "source": [
    "import os"
   ]
  },
  {
   "cell_type": "code",
   "execution_count": 20,
   "id": "9d7b18b6",
   "metadata": {},
   "outputs": [],
   "source": [
    "files = os.listdir(\"../scraped_data/stateacts\")"
   ]
  },
  {
   "cell_type": "code",
   "execution_count": 21,
   "id": "c134addb",
   "metadata": {},
   "outputs": [],
   "source": [
    "import json\n",
    "import re\n",
    "import matplotlib.pyplot as plt"
   ]
  },
  {
   "cell_type": "code",
   "execution_count": 23,
   "id": "92c93224",
   "metadata": {},
   "outputs": [
    {
     "data": {
      "text/plain": [
       "14225"
      ]
     },
     "execution_count": 23,
     "metadata": {},
     "output_type": "execute_result"
    }
   ],
   "source": [
    "doc_count = 0\n",
    "for file in files:\n",
    "    with open(f\"../scraped_data/stateacts/{file}\",\"r\",encoding=\"utf-8\") as f:\n",
    "        x = json.load(f)\n",
    "    years = list(x.keys())[:-1]\n",
    "    doc_len = [ (doc[\"doc_id\"]) for year in years for doc in x[year]]\n",
    "    doc_count += len(doc_len)\n",
    "doc_count"
   ]
  },
  {
   "cell_type": "code",
   "execution_count": 12,
   "id": "d08b92a9",
   "metadata": {},
   "outputs": [],
   "source": [
    "years = list(x.keys())[:-1]\n",
    "doc_len = [ (year,doc[\"doc_id\"]) for year in years for doc in x[year]]\n"
   ]
  },
  {
   "cell_type": "code",
   "execution_count": 13,
   "id": "540a37a7",
   "metadata": {},
   "outputs": [
    {
     "data": {
      "text/plain": [
       "9"
      ]
     },
     "execution_count": 13,
     "metadata": {},
     "output_type": "execute_result"
    }
   ],
   "source": [
    "len(doc_len)"
   ]
  },
  {
   "cell_type": "markdown",
   "id": "40b07f22",
   "metadata": {},
   "source": [
    "## Random Docs Selections from JSON\n"
   ]
  },
  {
   "cell_type": "code",
   "execution_count": 3,
   "id": "be8c7f91",
   "metadata": {},
   "outputs": [],
   "source": [
    "import json\n",
    "import numpy as np\n",
    "import random"
   ]
  },
  {
   "cell_type": "code",
   "execution_count": 4,
   "id": "6bb0ae23",
   "metadata": {},
   "outputs": [],
   "source": [
    "def randomly_select_docs(json_file,return_json_filename,sampling_size):\n",
    "    with open(json_file, \"r\", encoding=\"utf-8\") as f:\n",
    "        raw_data = json.load(f)\n",
    "    random_dict = {}\n",
    "    years = list(raw_data.keys())[:-1]\n",
    "    np.random.shuffle(years)\n",
    "    for year in years:\n",
    "        k = min(sampling_size, len(raw_data[year]))\n",
    "        random_dict[year] = random.sample(raw_data[year],k)\n",
    "    with open(f\"./{return_json_filename}.json\",\"w\",encoding=\"utf-8\") as f:\n",
    "        json.dump(random_dict,f,indent=4,ensure_ascii=False)"
   ]
  },
  {
   "cell_type": "markdown",
   "id": "931f7f74",
   "metadata": {},
   "source": [
    "## JSON to Documents"
   ]
  },
  {
   "cell_type": "code",
   "execution_count": 2,
   "id": "4390429e",
   "metadata": {},
   "outputs": [],
   "source": [
    "from datapreprocessing.json_to_docs import convert_json_to_docs"
   ]
  },
  {
   "cell_type": "code",
   "execution_count": 3,
   "id": "9490a8ee",
   "metadata": {},
   "outputs": [
    {
     "name": "stderr",
     "output_type": "stream",
     "text": [
      "Processing: 100%|██████████| 94/94 [00:00<00:00, 201.34it/s]\n"
     ]
    }
   ],
   "source": [
    "list_of_documents = convert_json_to_docs(\"../scraped_data/stateacts/assam-act.json\")"
   ]
  },
  {
   "cell_type": "markdown",
   "id": "4a643fe0",
   "metadata": {},
   "source": [
    "## Chunking"
   ]
  },
  {
   "cell_type": "code",
   "execution_count": 5,
   "id": "651bd0b9",
   "metadata": {},
   "outputs": [],
   "source": [
    "from datapreprocessing.docs_to_chunks import convert_docs_to_chunks"
   ]
  },
  {
   "cell_type": "code",
   "execution_count": 6,
   "id": "41f8c0e3",
   "metadata": {},
   "outputs": [
    {
     "name": "stderr",
     "output_type": "stream",
     "text": [
      "Processing: 100%|██████████| 4705/4705 [00:01<00:00, 3281.65it/s]\n"
     ]
    }
   ],
   "source": [
    "final_chunks = convert_docs_to_chunks(list_of_documents)"
   ]
  },
  {
   "cell_type": "code",
   "execution_count": 7,
   "id": "3077ccd1",
   "metadata": {},
   "outputs": [
    {
     "data": {
      "text/plain": [
       "9199"
      ]
     },
     "execution_count": 7,
     "metadata": {},
     "output_type": "execute_result"
    }
   ],
   "source": [
    "len(final_chunks)"
   ]
  },
  {
   "cell_type": "markdown",
   "id": "d5775d76",
   "metadata": {},
   "source": [
    "## Context Enrichment"
   ]
  },
  {
   "cell_type": "markdown",
   "id": "0ad33232",
   "metadata": {},
   "source": [
    "### Merge Shorter Chunks"
   ]
  },
  {
   "cell_type": "code",
   "execution_count": 8,
   "id": "512a452e",
   "metadata": {},
   "outputs": [],
   "source": [
    "from datapreprocessing.chunks_to_chunks import merge_shorter_chunks"
   ]
  },
  {
   "cell_type": "code",
   "execution_count": 9,
   "id": "ab5a309e",
   "metadata": {},
   "outputs": [
    {
     "name": "stdout",
     "output_type": "stream",
     "text": [
      "Before Processing docs:  [25, 31, 113, 359, 512, 531, 653, 669, 725, 757, 762, 780, 792, 817, 852, 884, 888, 952, 990, 1021, 1610, 1659, 1661, 1663, 1810, 1864, 1958, 1961, 1963, 1972, 1983, 2009, 2014, 2038, 2120, 2133, 2342, 2351, 2354, 2441, 2461, 2463, 2560, 2572, 2612, 2617, 2624, 2699, 2715, 2725, 2743, 2751, 2757, 2775, 2830, 2857, 2866, 2877, 2879, 3064, 3074, 3119, 3131, 3233, 3273, 3302, 3305, 3517, 3546, 3563, 3577, 3617, 3637, 3670, 3681, 3693, 3708, 3732, 3762, 3840, 3846, 3860, 3889, 3938, 3955, 3964, 3969, 3977, 3981, 3983, 4011, 4032, 4046, 4076, 4185, 4213, 4256, 4262, 4273, 4275, 4354, 4362, 4370, 4424, 4444, 4472, 4561, 4660, 4677, 4690, 4703, 4968, 5017, 5039, 5059, 5075, 5125, 5175, 5229, 5297, 5314, 5336, 5354, 5371, 5391, 5403, 5413, 5423, 5432, 5494, 5508, 5521, 5579, 5585, 5606, 5619, 5638, 5657, 5675, 5717, 5725, 5740, 5746, 5754, 5825, 5849, 5860, 5988, 6052, 6110, 6151, 6263, 6269, 6362, 6425, 6447, 6466, 6469, 6536, 6577, 6608, 6613, 6645, 6649, 6730, 6751, 6776, 6884, 6972, 6977, 7013, 7018, 7058, 7096, 7159, 7176, 7178, 7215, 7232, 7235, 7282, 7340, 7455, 7482, 7509, 7565, 7849, 7867, 7985, 8017, 8056, 8112, 8159, 8206, 8253, 8298, 8348, 8845, 8885, 8970, 8993, 9008, 9012, 9016, 9018, 9158, 9161, 9174]\n"
     ]
    },
    {
     "name": "stderr",
     "output_type": "stream",
     "text": [
      "Merging: 100%|██████████| 208/208 [00:00<00:00, 123449.16it/s]"
     ]
    },
    {
     "name": "stdout",
     "output_type": "stream",
     "text": [
      "Before Processing docs:  []\n"
     ]
    },
    {
     "name": "stderr",
     "output_type": "stream",
     "text": [
      "\n"
     ]
    }
   ],
   "source": [
    "final_chunks = merge_shorter_chunks(final_chunks,chunk_overlap=250,threshold=1000)"
   ]
  },
  {
   "cell_type": "code",
   "execution_count": null,
   "id": "ccc27e58",
   "metadata": {},
   "outputs": [],
   "source": [
    "from langchain_ollama import ChatOllama\n",
    "from langchain.prompts import PromptTemplate\n",
    "import random\n",
    "import time\n",
    "import pprint\n",
    "\n",
    "pp = pprint.PrettyPrinter(width=80)\n",
    "\n",
    "\n",
    "context_enrichment_template = PromptTemplate.from_template(\"\"\"\n",
    "\n",
    "Instructions:\n",
    "From the given chunk, extract only the **tags** (key metadata elements) without summarization as Comma Seperated Values.\n",
    "\n",
    "\n",
    "chunk : {page_content}                                                           \n",
    "\n",
    "\n",
    "\n",
    "\"\"\")\n",
    "\n",
    "metadata_template = PromptTemplate.from_template(\"\"\"\n",
    "This chunk is extracted from the legal document: {title}, cited by {cited_by}.\n",
    "Source: {source} | Jurisdiction: {jurisdiction} | Type: {doctype}\n",
    "Document link: {link}\n",
    "\"\"\")\n",
    "\n",
    "llm = ChatOllama(model=\"gemma3:270m\")\n",
    "\n",
    "context_enrichment_chain = context_enrichment_template | llm"
   ]
  },
  {
   "cell_type": "code",
   "execution_count": 33,
   "id": "9530e644",
   "metadata": {},
   "outputs": [],
   "source": [
    "def inject_context_to_chunks(chunk):\n",
    "    metadata = {\"link\":chunk.metadata[\"link\"],\n",
    "                \"title\":chunk.metadata[\"title\"],\n",
    "                \"source\":chunk.metadata[\"source\"],\n",
    "                \"jurisdiction\":chunk.metadata[\"jurisdiction\"],\n",
    "                \"doctype\":chunk.metadata[\"doctype\"],\n",
    "                \"cited_by\":chunk.metadata[\"cited_by\"]}\n",
    "    header_1 = metadata_template.format(**metadata)\n",
    "    del metadata[\"cited_by\"]\n",
    "    metadata[\"page_content\"]=chunk.page_content\n",
    "    #header_2 = \"\".join(context_enrichment_chain.invoke(metadata).content.split(\"\\n\\n\")[1:])\n",
    "    return header_1+\"\\n\\nDocument Fragment:\\n\"+chunk.page_content\n",
    "    "
   ]
  },
  {
   "cell_type": "code",
   "execution_count": 34,
   "id": "e042b9a0",
   "metadata": {},
   "outputs": [
    {
     "name": "stdout",
     "output_type": "stream",
     "text": [
      "('\\n'\n",
      " 'This chunk is extracted from the legal document: Rules of the Assam Dental '\n",
      " 'Council, cited by 7.\\n'\n",
      " 'Source: State of Assam - Act | Jurisdiction: State | Type: Rule\\n'\n",
      " 'Document link: https://indiankanoon.org/doc/46844279/\\n'\n",
      " '\\n'\n",
      " '\\n'\n",
      " 'Document Fragment:\\n'\n",
      " 'Rules of the Assam Dental Council Published vide Notification No. MMD '\n",
      " '207/48/361(A), dated the 23rd July, 1951 in the Assam Gazette, Part 2A, '\n",
      " 'dated 1st August, 1951, pages 1247-1264 Last Updated 11th February, 2020 '\n",
      " 'Notification No. MMD 207/48/361(A), dated the 23rd July, 1951. - In '\n",
      " 'pursuance of the provisions of Section 55 of the Dentists Act, 1948 (Act 16 '\n",
      " 'of 1948), the Governor of Assam is pleased to make the following Rules to '\n",
      " 'carry out the purposes of Chapters III, IV and V of the said Act. '\n",
      " 'Definitions. - In these Rules unless there is anything repugnant in the '\n",
      " 'subject or context- (1) the expression \"the Act\" means the Dentists Act, '\n",
      " '1948 (Act No. 16 of 1948); (2) The \"President\" means the President of the '\n",
      " 'Assam Dental Council elected or nominated as the case may be under Section '\n",
      " '25 of the Act; (3) \"The Registrar\" means the Registrar appointed under '\n",
      " 'Section 28 (1) (a) of the Act; (4) the expression \"Council\" means the Assam '\n",
      " 'Dental Council, constituted under section 21 of the Act; (5) the expression '\n",
      " '\"State\" means the State of Assam. Chapter I Formation of Assam Dental '\n",
      " 'Council 1. A Registrar shall be maintained in Form No. 1 in the Appendix to '\n",
      " 'these Rules in which names of the members constituting the Council, the '\n",
      " 'electorates which they represent, the date of appointment of such member, '\n",
      " 'the term for which he has been appointed and the date and reason of the '\n",
      " 'termination of his appointment, shall be entered. 2. Sixty days before the '\n",
      " 'expiration of the term of any existing appointment, the Registrar shall draw '\n",
      " 'the attention of the President to the vacancy that will arise, in order that '\n",
      " 'such new appointment may be made to take effect from the day on which the '\n",
      " 'corresponding old appointment will expire. 3. On the registration or death '\n",
      " 'of any member of the Council or on the')\n"
     ]
    }
   ],
   "source": [
    "pp.pprint(inject_context_to_chunks(final_chunks[random.randint(0,10000)]))"
   ]
  },
  {
   "cell_type": "code",
   "execution_count": null,
   "id": "76be4c72",
   "metadata": {},
   "outputs": [
    {
     "name": "stdout",
     "output_type": "stream",
     "text": [
      "\n",
      "--- iteration 0 ---\n",
      "\n",
      "Tags: Corporation, Limited, Assam Small Industries Development Corporation Limited, Directorate of Industries, as the case may be, may be continued or instituted by or against the Corporation.\n",
      "\n",
      "\n",
      "('ment Corporation, Limited the Assam Small Industries Development Corporation '\n",
      " 'Limited and the Directorate of Industries, as the case may be, may be '\n",
      " 'continued or instituted by or against the Corporation. (4) All expenditure '\n",
      " 'which the State Government or the Assam Industrial Development Corporation '\n",
      " 'Ltd, the Assam Small Industries Development Corporation Ltd., and the '\n",
      " 'Directorate of Industries may have incurred before the date of the coming '\n",
      " 'into force of this Act in connection with any of the purposes of this Act '\n",
      " 'shall be deemed to be a grant to the Corporation under section 22 of this '\n",
      " 'Act on that date, and assets acquired by such expenditure shall vest in the '\n",
      " 'Corporation. Chapter III Functions and Powers of the Corporation 15. '\n",
      " 'Function. - The functions of the Corporation shall be- (i) Generally to '\n",
      " 'promote and assist in the rapid and orderly establishment, growth and '\n",
      " 'development or industries, trade and commerce, in the State of Assam; and '\n",
      " '(ii) In particular and without prejudice to the generality of clause (i)- '\n",
      " '(a) To establish and manage industrial and Commercial estates at places '\n",
      " 'selected by the State Government; (b) To develop industrial area and growth '\n",
      " 'centers selected by the State Government for the purpose and make them '\n",
      " 'available for undertakings to establish themselves; (c) To undertake schemes '\n",
      " 'or works, either jointly with other corporate bodies or institutions, or '\n",
      " 'with local authorities, or on an agency basis, in furtherance of the '\n",
      " 'purposes for which the Corporation is established and all matters connected '\n",
      " 'therewith; (d) To provide or cause to be provided amenities and common '\n",
      " 'facilities in industrial estates, commercial estates and industrial areas '\n",
      " 'and growth centers and construct and maintain or cause to be maintained '\n",
      " 'works and buildings therefore; (e) To make')\n",
      "\n",
      "--- iteration 1 ---\n",
      "\n",
      "tags: tobacco, nicotine, gum, chewing material, smoking, tobacco products, tobacco and nicotine, chewing material, tobacco, tobacco products, tobacco products, chewing material, tobacco products, gum, chewing material, smoking, tobacco products, tobacco products, chewing material, tobacco and nicotine, gum, chewing material, smoking, tobacco products, tobacco products, chewing material, tobacco products, gum, chewing material, smoking, tobacco products, tobacco products, chewing material, tobacco, nicotine, gum, chewing material, smoking, tobacco products, tobacco products, chewing material, tobacco and nicotine, gum, chewing material, smoking, tobacco products, tobacco products, chewing material, tobacco, nicotine, gum, chewing material, smoking, tobacco products, tobacco products, chewing material, tobacco products, gum, chewing material, smoking, tobacco products, tobacco products, chewing material, tobacco products, gum, chewing material, smoking, tobacco products, tobacco products, chewing material, tobacco, nicotine, gum, chewing material, smoking, tobacco products, tobacco products, chewing material, tobacco products, gum, chewing material, smoking, tobacco products, tobacco products, chewing material, tobacco, nicotine, gum, chewing material, smoking, tobacco products, tobacco products, chewing material, tobacco products, gum, chewing material, smoking, tobacco products, tobacco products, chewing material, tobacco products, gum, chewing material, smoking, tobacco products, tobacco products, chewing material, tobacco and/or nicotine, gum, chewing material, smoking, tobacco products, tobacco products, chewing material, tobacco, nicotine, gum, chewing material, smoking, tobacco products, tobacco products, chewing material, tobacco products, gum, chewing material, smoking, tobacco products, tobacco products, chewing material, tobacco products, gum, chewing material, smoking, tobacco products, tobacco products, chewing material, tobacco, nicotine, gum, chewing material, smoking, tobacco products, tobacco products, chewing material, tobacco products, gum, chewing material, smoking, tobacco products, tobacco products, chewing material, tobacco, nicotine, gum, chewing material, smoking, tobacco products, tobacco products, chewing material, tobacco products, gum, chewing material, smoking, tobacco products, tobacco products, chewing material, tobacco, nicotine, gum, chewing material, smoking, tobacco products, tobacco products, chewing material, tobacco products, gum, chewing material, smoking, tobacco products, tobacco products, chewing material, tobacco, nicotine, gum, chewing material, smoking, tobacco products, tobacco products, chewing material, tobacco products, gum, chewing material, smoking, tobacco products, tobacco products, chewing material, tobacco, nicotine, gum, chewing material, smoking, tobacco products, tobacco products, chewing material, tobacco, nicotine, gum, chewing material, smoking, tobacco products, tobacco products, chewing material, tobacco products, gum, chewing material, smoking, tobacco products, tobacco products, chewing material, tobacco, nicotine, gum, chewing material, smoking, tobacco products, tobacco products, chewing material, tobacco products, gum, chewing material, smoking, tobacco products, tobacco products, chewing material, tobacco, nicotine, gum, chewing material, smoking, tobacco products, tobacco products, chewing material, tobacco products, gum, chewing material, smoking, tobacco products, tobacco products, chewing material, tobacco, nicotine, gum, chewing material, smoking, tobacco products, tobacco products, chewing material, tobacco products, gum, chewing material, smoking, tobacco products, tobacco products, chewing material, tobacco, nicotine, gum, chewing material, smoking, tobacco products, tobacco products, chewing material, tobacco products, gum, chewing material, smoking, tobacco products, tobacco products, chewing material, tobacco, nicotine, gum, chewing material, smoking, tobacco products, tobacco products, chewing material, tobacco, nicotine, gum, chewing material, smoking, tobacco products, tobacco products, chewing material, tobacco products, gum, chewing material, smoking, tobacco products, tobacco products, chewing material, tobacco, nicotine, gum, chewing material, smoking, tobacco products, tobacco products, chewing material, tobacco products, gum, chewing material, smoking, tobacco products, tobacco products, chewing material, tobacco, nicotine, gum, chewing material, smoking, tobacco products, tobacco products, chewing material, tobacco products, gum, chewing material, smoking, tobacco products, tobacco products, chewing material, tobacco, nicotine, gum, chewing material, smoking, tobacco products, tobacco products, chewing material, tobacco products, gum, chewing material, smoking, tobacco products, tobacco products, chewing material, tobacco, nicotine, gum, chewing material, smoking, tobacco products, tobacco products, chewing material, tobacco products, gum, chewing material, smoking, tobacco products, tobacco products, chewing material, tobacco, nicotine, gum, chewing material, smoking, tobacco products, tobacco products, chewing material, tobacco products, gum, chewing material, smoking, tobacco products, tobacco products, chewing material, tobacco, nicotine, gum, chewing material, smoking, tobacco products, tobacco products, chewing material, tobacco products, gum, chewing material, smoking, tobacco products, tobacco products, chewing material, tobacco, nicotine, gum, chewing material, smoking, tobacco products, tobacco products, chewing material, tobacco products, gum, chewing material, smoking, tobacco products, tobacco products, chewing material, tobacco, nicotine, gum, chewing material, smoking, tobacco products, tobacco products, chewing material, tobacco products, gum, chewing material, smoking, tobacco products, tobacco products, chewing material, tobacco, nicotine, gum, chewing material, smoking, tobacco products, tobacco products, chewing material, tobacco products, gum, chewing material, smoking, tobacco products, tobacco products, chewing material, tobacco, nicotine, gum, chewing material, smoking, tobacco products, tobacco products, chewing material, tobacco products, gum, chewing material, smoking, tobacco products, tobacco products, chewing material, tobacco, nicotine, gum, chewing material, smoking, tobacco products, tobacco products, chewing material, tobacco products, gum, chewing material, smoking, tobacco products, tobacco products, chewing material, tobacco, nicotine, gum, chewing material, smoking, tobacco products, tobacco products, chewing material, tobacco products, gum, chewing material, smoking, tobacco products, tobacco products, chewing material, tobacco, nicotine, gum, chewing material, smoking, tobacco products, tobacco products, chewing material, tobacco products, gum, chewing material, smoking, tobacco products, tobacco products, chewing material, tobacco products, gum, chewing material, smoking, tobacco products, tobacco products, chewing material, tobacco, nicotine, gum, chewing material, smoking, tobacco products, tobacco products, chewing material, tobacco products, gum, chewing material, smoking, tobacco products, tobacco products, chewing material, tobacco products, gum, chewing material, smoking, tobacco products, tobacco products, chewing material, tobacco products, gum, chewing material, smoking, tobacco products, tobacco products, chewing material, tobacco, nicotine, gum, chewing material, smoking, tobacco products, tobacco products, chewing material, tobacco products, tobacco products, chewing material, tobacco products, gum, chewing material, smoking, tobacco products, tobacco products, tobacco products, chewing material, tobacco, nicotine, gum, chewing material, smoking, tobacco products, tobacco products, tobacco products, chewing material, tobacco products, gum, chewing material, smoking, tobacco products, tobacco products, chewing material, tobacco products, tobacco products, chewing material, tobacco, nicotine, gum, chewing material, smoking, tobacco products, tobacco products, tobacco products, chewing material, tobacco products, gum, chewing material, smoking, tobacco products, tobacco products, tobacco products, chewing material, tobacco, nicotine, gum, chewing material, smoking, tobacco products, tobacco products, chewing material, tobacco products, tobacco products, chewing material, tobacco, nicotine, gum, chewing material, smoking, tobacco products, tobacco products, tobacco products, chewing material, tobacco, nicotine, gum, chewing material, smoking, tobacco products, tobacco products, chewing material, tobacco products, gum, chewing material, smoking, tobacco products, tobacco products, tobacco products, chewing material, tobacco, nicotine, gum, chewing material, smoking, tobacco products, tobacco products, tobacco products, chewing material, tobacco, nicotine, gum, chewing material, smoking, tobacco products, tobacco products, chewing material, tobacco products, gum, chewing material, smoking, tobacco products, tobacco products, chewing material, tobacco, nicotine, gum, chewing material, smoking, tobacco products, tobacco products, chewing material, tobacco products, gum, chewing material, smoking, tobacco products, tobacco products, chewing material, tobacco, nicotine, gum, chewing material, smoking, tobacco products, tobacco products, chewing material, tobacco products, gum, chewing material, smoking, tobacco products, tobacco products, chewing material, tobacco, nicotine, gum, chewing material, smoking, tobacco products, tobacco products, chewing material, tobacco products, gum, chewing material, smoking, tobacco products, tobacco products, chewing material, tobacco, nicotine, gum, chewing material, smoking, tobacco products, tobacco products, chewing material, tobacco products, gum, chewing material, smoking, tobacco products, tobacco products, chewing material, tobacco, nicotine, gum, chewing material, smoking, tobacco products, tobacco products, chewing material, tobacco products, gum, chewing material, smoking, tobacco products, tobacco products, chewing material, tobacco products, gum, chewing material, smoking, tobacco products, tobacco products, chewing material, tobacco, nicotine, gum, chewing material, smoking, tobacco products, tobacco products, chewing material, tobacco products, gum, chewing material, smoking, tobacco products, tobacco products, chewing material, tobacco products, gum, chewing material, smoking, tobacco products, tobacco products, chewing material, tobacco, nicotine, gum, chewing material, smoking, tobacco products, tobacco products, chewing material, tobacco products, chewing material, tobacco products, gum, chewing material, smoking, tobacco products, tobacco products, chewing material, tobacco, nicotine, gum, chewing material, smoking, tobacco products, tobacco products, chewing material, tobacco products, gum, chewing material, smoking, tobacco products, tobacco products, chewing material, tobacco products, gum, chewing material, smoking, tobacco products, tobacco products, chewing material, tobacco, nicotine, gum, chewing material, smoking, tobacco products, tobacco products, chewing material, tobacco products, gum, chewing material, smoking, tobacco products, tobacco products, chewing material, tobacco products, gum, chewing material, smoking, tobacco products, tobacco products, chewing material, tobacco, nicotine, gum, chewing material, smoking, tobacco products, tobacco products, chewing material, tobacco products, gum, chewing material, smoking, tobacco products, tobacco products, chewing material, tobacco products, gum, chewing material, smoking, tobacco products, tobacco products, chewing material, tobacco, nicotine, gum, chewing material, smoking, tobacco products, tobacco products, chewing material, tobacco products, gum, chewing material, smoking, tobacco products, tobacco products, chewing material, tobacco, nicotine, gum, chewing material, smoking, tobacco products, tobacco products, chewing material, tobacco products, gum, chewing material, smoking, tobacco products, tobacco products, chewing material, tobacco products, gum, chewing material, smoking, tobacco products, tobacco products, chewing material, tobacco, nicotine, gum, chewing material, smoking, tobacco products, tobacco products, chewing material, tobacco products, gum, chewing material, smoking, tobacco products, tobacco products, chewing material, tobacco products, gum, chewing material, smoking, tobacco products, tobacco products, chewing material, tobacco products, gum, chewing material, smoking, tobacco products, tobacco products, chewing material, tobacco, nicotine, gum, chewing material, smoking, tobacco products, tobacco products, chewing material, tobacco products, chewing material, tobacco products, gum, chewing material, smoking, tobacco products, tobacco products, chewing material, tobacco products, gum, chewing material, smoking, tobacco products, tobacco products, chewing material, tobacco, nicotine, gum, chewing material, smoking, tobacco products, tobacco products, chewing material, tobacco products, chewing material, tobacco, nicotine, gum, chewing material, smoking, tobacco products, tobacco products, chewing material, tobacco products, gum, chewing material, smoking, tobacco products, tobacco products, chewing material, tobacco products, gum, chewing material, smoking, tobacco products, tobacco products, chewing material, tobacco, nicotine, gum, chewing material, smoking, tobacco products, tobacco products, chewing material, legitimate, legitimate, legitimate, legitimate, legitimate, legitimate, legitimate, legitimate, legitimate, legitimate, legitimate, legitimate, legitimate, legitimate, legitimate, legitimate, legitimate, legitimate, legitimate, legitimate, legitimate, legitimate, legitimate, legitimate, legitimate, legitimate, legitimate, legitimate, legitimate, legitimate, legitimate, legitimate, legitimate, legitimate, legitimate, legitimate, [the act] 2013.\n",
      "\n",
      "\n",
      "('obacco and tobacco products including gutkha, pan masala and other chewing '\n",
      " 'material having tobacco as one of its ingredients, by whatever name called, '\n",
      " 'tooth powder containing tobacco and any other product which may be notified '\n",
      " 'by the Government, for the purpose of this Act. 3. Power of Government to '\n",
      " 'authorize Officers. (1) The Government may, by notification, authorize one '\n",
      " 'or more persons who shall be competent to act under this Act. (2) Every '\n",
      " 'person authorized under sub-section (1), shall be deemed to be public '\n",
      " 'servant within the meaning of section 21 of the Indian Penal Code, 1860 '\n",
      " '(Central Act No. 45 of 1860). 4. Prohibition of certain acts under the Act. '\n",
      " '(1) No person shall engage in or purported to be engaged in all or anyone of '\n",
      " 'the following acts within the State of Assam:- (a) manufacturing of Zarda, '\n",
      " 'Gutkha, Panmasala etc. containing tobacco and/or nicotine and various types '\n",
      " 'of smokeless and chewing tobacco or any of its derivatives in any form; (b) '\n",
      " 'advertisement of Zarda, Gutkha, Panmasala etc. containing tobacco and/or '\n",
      " 'nicotine and various types of smokeless and chewing tobacco or any of its '\n",
      " 'derivatives in any form; (c) storage of Zarda, Gutkha, Panmasala etc. '\n",
      " 'containing tobacco and/or nicotine and various types of smokeless and '\n",
      " 'chewing tobacco or any of its derivatives in any form; (d) trade, '\n",
      " 'distribution including unloading, and sale of Zarda, Gutkha, Panmasala etc. '\n",
      " 'containing tobacco and/or nicotine and various types of smokeless and '\n",
      " 'chewing tobacco or any of its derivatives in any form; (e) consumption '\n",
      " 'including possession of Zarda, Gutkha, Panmasala etc. containing tobacco '\n",
      " 'and/or nicotine and various types of smokeless and chewing tobacco or any of '\n",
      " 'its derivatives in any form; (2) Notwithstanding anything contained in the '\n",
      " 'foregoing provisions, the')\n",
      "\n",
      "--- iteration 2 ---\n",
      "\n",
      "tags\n",
      "\n",
      "\n",
      "('ning a scheme of compromise or arrangement or of amalgamation or '\n",
      " 'reconstruction (including division or reorganisation) of the bank, may be '\n",
      " 'made only with the previous sanction in writing of the Reserve Bank of '\n",
      " 'India; (ii) an order for the winding up of the bank shall be made by the '\n",
      " 'Registrar if so required by the Reserve Bank of India in its circumstances '\n",
      " 'referred to in Section 13-D of the Deposit Insurance and Credit Guarantee '\n",
      " 'Corporation Act, 1961; (iii) if so required by the Reserve Bank of India in '\n",
      " 'the public interest or for preventing the affairs of the Bank being '\n",
      " 'conducted in a manner detrimental to the interests of the depositors or for '\n",
      " 'securing the proper management of the bank, an order shall be made for the '\n",
      " 'supersession of the committee of management or other managing body (by '\n",
      " 'whatever name called) of the bank and the appointment of an administrator '\n",
      " 'therefore for such period or periods, not exceeding five years in the '\n",
      " 'aggregate, as may from time to time, be specified by the Reserve Bank of '\n",
      " 'India, and the administrator so appointed shall, after expiry of his term of '\n",
      " 'office continue in office until the day immediately proceeding (sic) the '\n",
      " 'date of the first meeting of the new committees; (iv) no appeal, revision or '\n",
      " 'review shall lie or be permissible against an order such as is referred to '\n",
      " 'in Clauses (i), (ii), (iii) made with the previous sanction in writing or on '\n",
      " 'the requisition of the Reserve Bank of India and such order or sanction '\n",
      " 'shall not be liable to be called in question in any other manner; (v) the '\n",
      " 'liquidator or the insured Co-operative Bank of transferee bank, as the case '\n",
      " 'may be shall be under an obligation to repay the Deposit Insurance and '\n",
      " 'Credit Guarantee Corporation established under the Deposit Insurance and '\n",
      " 'Credit Guarantee Corporation Act, 1961')\n",
      "\n",
      "--- iteration 3 ---\n",
      "\n",
      "*   **Tags:**\n",
      "    *    Assam Court-Fees (Amendment) Act, 1950\n",
      "    *   Indian Succession Act, 1925\n",
      "    *   Amount or value of any debt or security specified in the certificate under Section 374 of the Act\n",
      "    *   Two per centum on the first ten thousand rupees\n",
      "    *   Three per centum on the next forty thousand rupees\n",
      "    *   Four per centum on the next one lakh and fifty thousand rupees\n",
      "    *   Five and a half per centum on the next fifty thousand rupees\n",
      "    *   Six per centum on the next one lakh of rupees\n",
      "    *   Six and a half per centum on the next one lakh of rupees\n",
      "    *   Seven per centum on the remainder of such amount or value\n",
      "    *   When the aggregate amount or value of any debts or securities specified in the certificate and of any debts or securities to which the certificate has been extended under Section 376 of the Act exceeds one thousand rupees.\n",
      "    *   In respect of such portion of the aggregate amount or value as consists of the amount or value of debts or securities so specified, the fee hereinbefore provided in that behalf in this article.\n",
      "    *   Three per centum on such portion of the first ten thousand rupees; four and a half per centum of such portion of the next forty thousand rupees; six per centum on such portion of the next fifty thousand rupees; seven and a half per centum on such portion of the next one lakh and fifth thousand rupees; eight and a quarter per centum on such portion of the next fifty thousand rupees; nine per centum on such portion of the next one lakh of rupees; nine and three-quarters per centum on such portion of the next one lakh of rupees.\n",
      "    *   Ten and a half per centum on such portion of the remainder of such aggregate amount or value as consists of the amount or value of debts or securities to which the certificate has been extended.\n",
      "    *   Note.- (1) The amount of a debt is its amount including interest on\n",
      "    *   \n",
      "\n",
      "('tificate under the Indian Succession Act, 1925 When the amount or value of '\n",
      " 'any debt or security specified in the certificate under Section 374 of the '\n",
      " 'Act exceeds one thousand rupees Two per centum on the first ten thousand '\n",
      " 'rupees; three per centum on the next forty thousand rupees; four per centum '\n",
      " 'on the next one lakh and fifty thousand rupees; five and a half per centum '\n",
      " 'on the next fifty thousand rupees; six per centum on the next one lakh of '\n",
      " 'rupees; six and a half per centum on the next one lakh of rupees. and seven '\n",
      " 'per centum on the remainder of such amount or value. and when the aggregate '\n",
      " 'amount or value of any debts or securities specified in the certificate and '\n",
      " 'of any debts or securities to which the certificate has been extended under '\n",
      " 'Section 376 of the Act exceeds one thousand rupees. In respect of such '\n",
      " 'portion of the aggregate amount or value as consists of the amount or value '\n",
      " 'of debts or securities so specified, the fee hereinbefore provided in that '\n",
      " 'behalf in this article. and three per centum on such portion of the first '\n",
      " 'ten thousand rupees; four and a half per centum of such portion of the next '\n",
      " 'forty thousand rupees; six per centum on such portion of the next fifty '\n",
      " 'thousand rupees; seven and a half per centum on such portion of the next one '\n",
      " 'lakh and fifth thousand rupees; eight and a quarter per centum on such '\n",
      " 'portion of the next fifty thousand rupees; nine per centum on such portion '\n",
      " 'of the next one lakh of rupees; nine and three-quarters per centum on such '\n",
      " 'portion of the next one lakh of rupees. and ten and a half per centum on '\n",
      " 'such portion of the remainder of such aggregate amount or value as consists '\n",
      " 'of the amount or value of debts or securities to which the certificate has '\n",
      " 'been extended. Note.- (1) The amount of a debt is its amount including '\n",
      " 'interest on')\n",
      "\n",
      "--- iteration 4 ---\n",
      "\n",
      "tags: disabled; or (c) who is a bankrupt; or (d) who is convicted of a criminal offence, involving moral turpitude.\n",
      "\n",
      "\n",
      "('disabled; or (c) who is a bankrupt; or (d) who is convicted of a criminal '\n",
      " 'offence, involving moral turpitude. (3) No person who has ceased within a '\n",
      " 'period of four years to be a member of any society with unlimited liability '\n",
      " 'shall be allowed to be a member of another society with unlimited liability, '\n",
      " 'without special permission of the Registrar. (4) Any member who may, at any '\n",
      " 'time, be found disqualified for any of the reasons in Clauses (2) and (3) '\n",
      " 'above shall be removed from the society. (5) In cases of any doubt, the '\n",
      " 'Registrar shall decide whether a person is or is not eligible as an '\n",
      " 'applicant for registration or liable to be removed from the society. 16. '\n",
      " 'Disqualification for voting. - No member of a co-operative society shall be '\n",
      " 'eligible for appointment to enable him to vote in the affairs of another '\n",
      " 'co-operative society of which his society is a member- (a) if such member is '\n",
      " 'in any way disqualified under the provisions of the Rules or any bye-laws of '\n",
      " 'the society for voting in the affairs of the society of which he is a member '\n",
      " 'or for being appointed as a director; or (b) if, in the case of a credit '\n",
      " 'society, the member is a habitual defaulter and no extension of time for '\n",
      " 'payment of the instalments defaulted has been granted by the managing body; '\n",
      " '(c) if, in the case of any other type of societies, the member is in arrears '\n",
      " 'in any way in payment of his dues or is not loyal to the society as required '\n",
      " 'under the bye-laws. Explanation. - \"A habitual defaulter\" referred to in '\n",
      " 'Clause (b) means a member of a credit society who has failed to pay there '\n",
      " 'instalments already due immediately preceding the election. 17. Promoters of '\n",
      " 'unlimited liability society and member of all other societies, seeking loan '\n",
      " 'to furnish information as to financial position. - A full, true and accurate')\n"
     ]
    }
   ],
   "source": [
    "from pprint import pprint\n",
    "\n",
    "for i in range(10):\n",
    "    chunk = final_chunks[random.randint(0, 9000)]\n",
    "    chunk_metadata = chunk.metadata\n",
    "    text = context_enrichment_chain.invoke({\n",
    "        \"page_content\": chunk.page_content,\n",
    "        \"title\": chunk_metadata[\"title\"],\n",
    "        \"source\": chunk_metadata[\"source\"],\n",
    "        \"link\": chunk_metadata[\"link\"],\n",
    "        \"jurisdiction\": chunk_metadata[\"jurisdiction\"],\n",
    "        \"doctype\": chunk_metadata[\"doctype\"]\n",
    "    }).content\n",
    "\n",
    "    print(f\"\\n--- iteration {i} ---\\n\")\n",
    "    print(text+\"\\n\")  # readable output\n",
    "    pp.pprint(chunk.page_content)\n"
   ]
  },
  {
   "cell_type": "code",
   "execution_count": 120,
   "id": "bea3e538",
   "metadata": {},
   "outputs": [],
   "source": [
    "context_enrichment_chain = context_enrichment_prompt | llm\n",
    "text = context_enrichment_chain.invoke({\"page_content\":chunk.page_content,\n",
    "                       \"title\":chunk_metadata[\"title\"],\n",
    "                       \"source\":chunk_metadata[\"source\"],\n",
    "                       \"link\":chunk_metadata[\"link\"],\n",
    "                       \"jurisdiction\":chunk_metadata[\"jurisdiction\"],\n",
    "                       \"doctype\":chunk_metadata[\"doctype\"]}).content"
   ]
  },
  {
   "cell_type": "code",
   "execution_count": 121,
   "id": "a5958322",
   "metadata": {},
   "outputs": [
    {
     "data": {
      "text/plain": [
       "'The Indian Partnership Act, 1932, is an Act to define and amend the law relating to partnership. It is enacted as follows: 1. Short title, extent and commencement. (1) This Act may be called the Indian Partnership Act, 1932. (2) It extends to the whole of India except the State of Jammu and Kashmir. (3) It shall come into force on the 1st day of October, 1932, except section 69, which shall come into force on the 1st day of October, 1933. 2. Definitions. In this Act, unless there is anything repugnant in the subject or context,— (a) an “act of a firm” means any act or omission by all the partners, or by any partner or agent of the firm which gives rise to a right enforceable by or against the firm; (b) “business” includes every trade, occupation and profession; (c) “prescribed” means prescribed by rules made under this Act; (d) “third party” used in relation to a firm or to a partner therein means any person who is not a partner in the firm; and (e) expressions used but not defined in this Act and defined in the Indian Contract Act, 1872 (9 of 1872), shall have the meanings assigned to them in that Act. 3. Application of provisions of Act 9 of 1872.— The unrepealed provisions of the Indian Contract Act, 1872, save in so far as they are inconsistent with the express provisions of this Act, shall continue to apply to firms. 4. Definition of “partnership”, “partner”, “firm” and “firm name”.— \"Partnership\" is the relation between persons who have agreed to share the profits of a business carried on by all or any of them acting for all. Persons who have entered into partnership with one another are called individually “partners” and collectively a “firm”, and the name under which their business is carried on is called the “firm name”. 5. Partnership not created by status.— The relation of partnership arises from contract and not from status; and, in particular, the members of a Hindu undivided family carrying on a family business as such, or a Burmese Buddhist husband and wife carrying business as such, are not partners in such business. 6. Mode of determining existence of partnership.— In determining whether a group of persons is or is not a firm or whether a person is or is not a partner in a firm, regard shall be had to the real relation between the parties, as shown by all relevant facts taken together. Explanation 1.— The sharing of</end/>'"
      ]
     },
     "execution_count": 121,
     "metadata": {},
     "output_type": "execute_result"
    }
   ],
   "source": [
    "text.split(\"\\n\\n\")[-1]"
   ]
  },
  {
   "cell_type": "markdown",
   "id": "c98a93c0",
   "metadata": {},
   "source": [
    "## Embedding"
   ]
  },
  {
   "cell_type": "code",
   "execution_count": 93,
   "id": "c7b0748e",
   "metadata": {},
   "outputs": [],
   "source": [
    "from qdrant_client import QdrantClient\n",
    "from qdrant_client.http.models import VectorParams\n",
    "from concurrent.futures import ThreadPoolExecutor, as_completed\n",
    "from langchain_ollama import OllamaEmbeddings\n",
    "import uuid\n",
    "import time\n",
    "from tqdm import tqdm\n",
    "qdrant_url = \"http://localhost:6333\"\n",
    "EMBED_DIMENSION=768\n",
    "DISTANCE=\"Cosine\"\n",
    "COLLECTION_NAME=\"Union_law_docs\"\n",
    "deletecollection = True"
   ]
  },
  {
   "cell_type": "code",
   "execution_count": 18,
   "id": "2f0a0e6b",
   "metadata": {},
   "outputs": [
    {
     "ename": "KeyboardInterrupt",
     "evalue": "",
     "output_type": "error",
     "traceback": [
      "\u001b[31m---------------------------------------------------------------------------\u001b[39m",
      "\u001b[31mKeyboardInterrupt\u001b[39m                         Traceback (most recent call last)",
      "\u001b[36mCell\u001b[39m\u001b[36m \u001b[39m\u001b[32mIn[18]\u001b[39m\u001b[32m, line 3\u001b[39m\n\u001b[32m      1\u001b[39m \u001b[38;5;66;03m## Make Sure the Docker is up and running (docker run -p 6333:6333 qdrant/qdrant)\u001b[39;00m\n\u001b[32m----> \u001b[39m\u001b[32m3\u001b[39m client = \u001b[43mQdrantClient\u001b[49m\u001b[43m(\u001b[49m\u001b[43murl\u001b[49m\u001b[43m=\u001b[49m\u001b[43mqdrant_url\u001b[49m\u001b[43m,\u001b[49m\u001b[43mprefer_grpc\u001b[49m\u001b[43m=\u001b[49m\u001b[38;5;28;43;01mFalse\u001b[39;49;00m\u001b[43m)\u001b[49m\n\u001b[32m      5\u001b[39m \u001b[38;5;66;03m## Embedding Model\u001b[39;00m\n\u001b[32m      6\u001b[39m embedding_model = OllamaEmbeddings(model=\u001b[33m\"\u001b[39m\u001b[33mnomic-embed-text\u001b[39m\u001b[33m\"\u001b[39m)\n",
      "\u001b[36mFile \u001b[39m\u001b[32md:\\Current Projects\\AramAI\\.venv\\Lib\\site-packages\\qdrant_client\\qdrant_client.py:139\u001b[39m, in \u001b[36mQdrantClient.__init__\u001b[39m\u001b[34m(self, location, url, port, grpc_port, prefer_grpc, https, api_key, prefix, timeout, host, path, force_disable_check_same_thread, grpc_options, auth_token_provider, cloud_inference, local_inference_batch_size, check_compatibility, **kwargs)\u001b[39m\n\u001b[32m    137\u001b[39m     \u001b[38;5;28;01mif\u001b[39;00m location \u001b[38;5;129;01mis\u001b[39;00m \u001b[38;5;129;01mnot\u001b[39;00m \u001b[38;5;28;01mNone\u001b[39;00m \u001b[38;5;129;01mand\u001b[39;00m url \u001b[38;5;129;01mis\u001b[39;00m \u001b[38;5;28;01mNone\u001b[39;00m:\n\u001b[32m    138\u001b[39m         url = location\n\u001b[32m--> \u001b[39m\u001b[32m139\u001b[39m     \u001b[38;5;28mself\u001b[39m._client = \u001b[43mQdrantRemote\u001b[49m\u001b[43m(\u001b[49m\n\u001b[32m    140\u001b[39m \u001b[43m        \u001b[49m\u001b[43murl\u001b[49m\u001b[43m=\u001b[49m\u001b[43murl\u001b[49m\u001b[43m,\u001b[49m\n\u001b[32m    141\u001b[39m \u001b[43m        \u001b[49m\u001b[43mport\u001b[49m\u001b[43m=\u001b[49m\u001b[43mport\u001b[49m\u001b[43m,\u001b[49m\n\u001b[32m    142\u001b[39m \u001b[43m        \u001b[49m\u001b[43mgrpc_port\u001b[49m\u001b[43m=\u001b[49m\u001b[43mgrpc_port\u001b[49m\u001b[43m,\u001b[49m\n\u001b[32m    143\u001b[39m \u001b[43m        \u001b[49m\u001b[43mprefer_grpc\u001b[49m\u001b[43m=\u001b[49m\u001b[43mprefer_grpc\u001b[49m\u001b[43m,\u001b[49m\n\u001b[32m    144\u001b[39m \u001b[43m        \u001b[49m\u001b[43mhttps\u001b[49m\u001b[43m=\u001b[49m\u001b[43mhttps\u001b[49m\u001b[43m,\u001b[49m\n\u001b[32m    145\u001b[39m \u001b[43m        \u001b[49m\u001b[43mapi_key\u001b[49m\u001b[43m=\u001b[49m\u001b[43mapi_key\u001b[49m\u001b[43m,\u001b[49m\n\u001b[32m    146\u001b[39m \u001b[43m        \u001b[49m\u001b[43mprefix\u001b[49m\u001b[43m=\u001b[49m\u001b[43mprefix\u001b[49m\u001b[43m,\u001b[49m\n\u001b[32m    147\u001b[39m \u001b[43m        \u001b[49m\u001b[43mtimeout\u001b[49m\u001b[43m=\u001b[49m\u001b[43mtimeout\u001b[49m\u001b[43m,\u001b[49m\n\u001b[32m    148\u001b[39m \u001b[43m        \u001b[49m\u001b[43mhost\u001b[49m\u001b[43m=\u001b[49m\u001b[43mhost\u001b[49m\u001b[43m,\u001b[49m\n\u001b[32m    149\u001b[39m \u001b[43m        \u001b[49m\u001b[43mgrpc_options\u001b[49m\u001b[43m=\u001b[49m\u001b[43mgrpc_options\u001b[49m\u001b[43m,\u001b[49m\n\u001b[32m    150\u001b[39m \u001b[43m        \u001b[49m\u001b[43mauth_token_provider\u001b[49m\u001b[43m=\u001b[49m\u001b[43mauth_token_provider\u001b[49m\u001b[43m,\u001b[49m\n\u001b[32m    151\u001b[39m \u001b[43m        \u001b[49m\u001b[43mcheck_compatibility\u001b[49m\u001b[43m=\u001b[49m\u001b[43mcheck_compatibility\u001b[49m\u001b[43m,\u001b[49m\n\u001b[32m    152\u001b[39m \u001b[43m        \u001b[49m\u001b[43m*\u001b[49m\u001b[43m*\u001b[49m\u001b[43mkwargs\u001b[49m\u001b[43m,\u001b[49m\n\u001b[32m    153\u001b[39m \u001b[43m    \u001b[49m\u001b[43m)\u001b[49m\n\u001b[32m    155\u001b[39m \u001b[38;5;28;01mif\u001b[39;00m \u001b[38;5;28misinstance\u001b[39m(\u001b[38;5;28mself\u001b[39m._client, QdrantLocal) \u001b[38;5;129;01mand\u001b[39;00m cloud_inference:\n\u001b[32m    156\u001b[39m     \u001b[38;5;28;01mraise\u001b[39;00m \u001b[38;5;167;01mValueError\u001b[39;00m(\n\u001b[32m    157\u001b[39m         \u001b[33m\"\u001b[39m\u001b[33mCloud inference is not supported for local Qdrant, consider using FastEmbed or switch to Qdrant Cloud\u001b[39m\u001b[33m\"\u001b[39m\n\u001b[32m    158\u001b[39m     )\n",
      "\u001b[36mFile \u001b[39m\u001b[32md:\\Current Projects\\AramAI\\.venv\\Lib\\site-packages\\qdrant_client\\qdrant_remote.py:191\u001b[39m, in \u001b[36mQdrantRemote.__init__\u001b[39m\u001b[34m(self, url, port, grpc_port, prefer_grpc, https, api_key, prefix, timeout, host, grpc_options, auth_token_provider, check_compatibility, **kwargs)\u001b[39m\n\u001b[32m    188\u001b[39m     bearer_auth = BearerAuth(\u001b[38;5;28mself\u001b[39m._auth_token_provider)\n\u001b[32m    189\u001b[39m     \u001b[38;5;28mself\u001b[39m._rest_args[\u001b[33m\"\u001b[39m\u001b[33mauth\u001b[39m\u001b[33m\"\u001b[39m] = bearer_auth\n\u001b[32m--> \u001b[39m\u001b[32m191\u001b[39m \u001b[38;5;28mself\u001b[39m.openapi_client: SyncApis[ApiClient] = \u001b[43mSyncApis\u001b[49m\u001b[43m(\u001b[49m\n\u001b[32m    192\u001b[39m \u001b[43m    \u001b[49m\u001b[43mhost\u001b[49m\u001b[43m=\u001b[49m\u001b[38;5;28;43mself\u001b[39;49m\u001b[43m.\u001b[49m\u001b[43mrest_uri\u001b[49m\u001b[43m,\u001b[49m\n\u001b[32m    193\u001b[39m \u001b[43m    \u001b[49m\u001b[43m*\u001b[49m\u001b[43m*\u001b[49m\u001b[38;5;28;43mself\u001b[39;49m\u001b[43m.\u001b[49m\u001b[43m_rest_args\u001b[49m\u001b[43m,\u001b[49m\n\u001b[32m    194\u001b[39m \u001b[43m\u001b[49m\u001b[43m)\u001b[49m\n\u001b[32m    196\u001b[39m \u001b[38;5;28mself\u001b[39m._grpc_channel = \u001b[38;5;28;01mNone\u001b[39;00m\n\u001b[32m    197\u001b[39m \u001b[38;5;28mself\u001b[39m._grpc_points_client: Optional[grpc.PointsStub] = \u001b[38;5;28;01mNone\u001b[39;00m\n",
      "\u001b[36mFile \u001b[39m\u001b[32md:\\Current Projects\\AramAI\\.venv\\Lib\\site-packages\\qdrant_client\\http\\api_client.py:44\u001b[39m, in \u001b[36mSyncApis.__init__\u001b[39m\u001b[34m(self, host, **kwargs)\u001b[39m\n\u001b[32m     43\u001b[39m \u001b[38;5;28;01mdef\u001b[39;00m\u001b[38;5;250m \u001b[39m\u001b[34m__init__\u001b[39m(\u001b[38;5;28mself\u001b[39m, host: \u001b[38;5;28mstr\u001b[39m, **kwargs: Any):\n\u001b[32m---> \u001b[39m\u001b[32m44\u001b[39m     \u001b[38;5;28mself\u001b[39m.client = \u001b[43mApiClient\u001b[49m\u001b[43m(\u001b[49m\u001b[43mhost\u001b[49m\u001b[43m,\u001b[49m\u001b[43m \u001b[49m\u001b[43m*\u001b[49m\u001b[43m*\u001b[49m\u001b[43mkwargs\u001b[49m\u001b[43m)\u001b[49m\n\u001b[32m     46\u001b[39m     \u001b[38;5;28mself\u001b[39m.aliases_api = SyncAliasesApi(\u001b[38;5;28mself\u001b[39m.client)\n\u001b[32m     47\u001b[39m     \u001b[38;5;28mself\u001b[39m.beta_api = SyncBetaApi(\u001b[38;5;28mself\u001b[39m.client)\n",
      "\u001b[36mFile \u001b[39m\u001b[32md:\\Current Projects\\AramAI\\.venv\\Lib\\site-packages\\qdrant_client\\http\\api_client.py:71\u001b[39m, in \u001b[36mApiClient.__init__\u001b[39m\u001b[34m(self, host, **kwargs)\u001b[39m\n\u001b[32m     69\u001b[39m \u001b[38;5;28mself\u001b[39m.host = host\n\u001b[32m     70\u001b[39m \u001b[38;5;28mself\u001b[39m.middleware: MiddlewareT = BaseMiddleware()\n\u001b[32m---> \u001b[39m\u001b[32m71\u001b[39m \u001b[38;5;28mself\u001b[39m._client = \u001b[43mClient\u001b[49m\u001b[43m(\u001b[49m\u001b[43m*\u001b[49m\u001b[43m*\u001b[49m\u001b[43mkwargs\u001b[49m\u001b[43m)\u001b[49m\n",
      "\u001b[36mFile \u001b[39m\u001b[32md:\\Current Projects\\AramAI\\.venv\\Lib\\site-packages\\httpx\\_client.py:688\u001b[39m, in \u001b[36mClient.__init__\u001b[39m\u001b[34m(self, auth, params, headers, cookies, verify, cert, trust_env, http1, http2, proxy, mounts, timeout, follow_redirects, limits, max_redirects, event_hooks, base_url, transport, default_encoding)\u001b[39m\n\u001b[32m    685\u001b[39m allow_env_proxies = trust_env \u001b[38;5;129;01mand\u001b[39;00m transport \u001b[38;5;129;01mis\u001b[39;00m \u001b[38;5;28;01mNone\u001b[39;00m\n\u001b[32m    686\u001b[39m proxy_map = \u001b[38;5;28mself\u001b[39m._get_proxy_map(proxy, allow_env_proxies)\n\u001b[32m--> \u001b[39m\u001b[32m688\u001b[39m \u001b[38;5;28mself\u001b[39m._transport = \u001b[38;5;28;43mself\u001b[39;49m\u001b[43m.\u001b[49m\u001b[43m_init_transport\u001b[49m\u001b[43m(\u001b[49m\n\u001b[32m    689\u001b[39m \u001b[43m    \u001b[49m\u001b[43mverify\u001b[49m\u001b[43m=\u001b[49m\u001b[43mverify\u001b[49m\u001b[43m,\u001b[49m\n\u001b[32m    690\u001b[39m \u001b[43m    \u001b[49m\u001b[43mcert\u001b[49m\u001b[43m=\u001b[49m\u001b[43mcert\u001b[49m\u001b[43m,\u001b[49m\n\u001b[32m    691\u001b[39m \u001b[43m    \u001b[49m\u001b[43mtrust_env\u001b[49m\u001b[43m=\u001b[49m\u001b[43mtrust_env\u001b[49m\u001b[43m,\u001b[49m\n\u001b[32m    692\u001b[39m \u001b[43m    \u001b[49m\u001b[43mhttp1\u001b[49m\u001b[43m=\u001b[49m\u001b[43mhttp1\u001b[49m\u001b[43m,\u001b[49m\n\u001b[32m    693\u001b[39m \u001b[43m    \u001b[49m\u001b[43mhttp2\u001b[49m\u001b[43m=\u001b[49m\u001b[43mhttp2\u001b[49m\u001b[43m,\u001b[49m\n\u001b[32m    694\u001b[39m \u001b[43m    \u001b[49m\u001b[43mlimits\u001b[49m\u001b[43m=\u001b[49m\u001b[43mlimits\u001b[49m\u001b[43m,\u001b[49m\n\u001b[32m    695\u001b[39m \u001b[43m    \u001b[49m\u001b[43mtransport\u001b[49m\u001b[43m=\u001b[49m\u001b[43mtransport\u001b[49m\u001b[43m,\u001b[49m\n\u001b[32m    696\u001b[39m \u001b[43m\u001b[49m\u001b[43m)\u001b[49m\n\u001b[32m    697\u001b[39m \u001b[38;5;28mself\u001b[39m._mounts: \u001b[38;5;28mdict\u001b[39m[URLPattern, BaseTransport | \u001b[38;5;28;01mNone\u001b[39;00m] = {\n\u001b[32m    698\u001b[39m     URLPattern(key): \u001b[38;5;28;01mNone\u001b[39;00m\n\u001b[32m    699\u001b[39m     \u001b[38;5;28;01mif\u001b[39;00m proxy \u001b[38;5;129;01mis\u001b[39;00m \u001b[38;5;28;01mNone\u001b[39;00m\n\u001b[32m   (...)\u001b[39m\u001b[32m    709\u001b[39m     \u001b[38;5;28;01mfor\u001b[39;00m key, proxy \u001b[38;5;129;01min\u001b[39;00m proxy_map.items()\n\u001b[32m    710\u001b[39m }\n\u001b[32m    711\u001b[39m \u001b[38;5;28;01mif\u001b[39;00m mounts \u001b[38;5;129;01mis\u001b[39;00m \u001b[38;5;129;01mnot\u001b[39;00m \u001b[38;5;28;01mNone\u001b[39;00m:\n",
      "\u001b[36mFile \u001b[39m\u001b[32md:\\Current Projects\\AramAI\\.venv\\Lib\\site-packages\\httpx\\_client.py:731\u001b[39m, in \u001b[36mClient._init_transport\u001b[39m\u001b[34m(self, verify, cert, trust_env, http1, http2, limits, transport)\u001b[39m\n\u001b[32m    728\u001b[39m \u001b[38;5;28;01mif\u001b[39;00m transport \u001b[38;5;129;01mis\u001b[39;00m \u001b[38;5;129;01mnot\u001b[39;00m \u001b[38;5;28;01mNone\u001b[39;00m:\n\u001b[32m    729\u001b[39m     \u001b[38;5;28;01mreturn\u001b[39;00m transport\n\u001b[32m--> \u001b[39m\u001b[32m731\u001b[39m \u001b[38;5;28;01mreturn\u001b[39;00m \u001b[43mHTTPTransport\u001b[49m\u001b[43m(\u001b[49m\n\u001b[32m    732\u001b[39m \u001b[43m    \u001b[49m\u001b[43mverify\u001b[49m\u001b[43m=\u001b[49m\u001b[43mverify\u001b[49m\u001b[43m,\u001b[49m\n\u001b[32m    733\u001b[39m \u001b[43m    \u001b[49m\u001b[43mcert\u001b[49m\u001b[43m=\u001b[49m\u001b[43mcert\u001b[49m\u001b[43m,\u001b[49m\n\u001b[32m    734\u001b[39m \u001b[43m    \u001b[49m\u001b[43mtrust_env\u001b[49m\u001b[43m=\u001b[49m\u001b[43mtrust_env\u001b[49m\u001b[43m,\u001b[49m\n\u001b[32m    735\u001b[39m \u001b[43m    \u001b[49m\u001b[43mhttp1\u001b[49m\u001b[43m=\u001b[49m\u001b[43mhttp1\u001b[49m\u001b[43m,\u001b[49m\n\u001b[32m    736\u001b[39m \u001b[43m    \u001b[49m\u001b[43mhttp2\u001b[49m\u001b[43m=\u001b[49m\u001b[43mhttp2\u001b[49m\u001b[43m,\u001b[49m\n\u001b[32m    737\u001b[39m \u001b[43m    \u001b[49m\u001b[43mlimits\u001b[49m\u001b[43m=\u001b[49m\u001b[43mlimits\u001b[49m\u001b[43m,\u001b[49m\n\u001b[32m    738\u001b[39m \u001b[43m\u001b[49m\u001b[43m)\u001b[49m\n",
      "\u001b[36mFile \u001b[39m\u001b[32md:\\Current Projects\\AramAI\\.venv\\Lib\\site-packages\\httpx\\_transports\\default.py:153\u001b[39m, in \u001b[36mHTTPTransport.__init__\u001b[39m\u001b[34m(self, verify, cert, trust_env, http1, http2, limits, proxy, uds, local_address, retries, socket_options)\u001b[39m\n\u001b[32m    150\u001b[39m \u001b[38;5;28;01mimport\u001b[39;00m\u001b[38;5;250m \u001b[39m\u001b[34;01mhttpcore\u001b[39;00m\n\u001b[32m    152\u001b[39m proxy = Proxy(url=proxy) \u001b[38;5;28;01mif\u001b[39;00m \u001b[38;5;28misinstance\u001b[39m(proxy, (\u001b[38;5;28mstr\u001b[39m, URL)) \u001b[38;5;28;01melse\u001b[39;00m proxy\n\u001b[32m--> \u001b[39m\u001b[32m153\u001b[39m ssl_context = \u001b[43mcreate_ssl_context\u001b[49m\u001b[43m(\u001b[49m\u001b[43mverify\u001b[49m\u001b[43m=\u001b[49m\u001b[43mverify\u001b[49m\u001b[43m,\u001b[49m\u001b[43m \u001b[49m\u001b[43mcert\u001b[49m\u001b[43m=\u001b[49m\u001b[43mcert\u001b[49m\u001b[43m,\u001b[49m\u001b[43m \u001b[49m\u001b[43mtrust_env\u001b[49m\u001b[43m=\u001b[49m\u001b[43mtrust_env\u001b[49m\u001b[43m)\u001b[49m\n\u001b[32m    155\u001b[39m \u001b[38;5;28;01mif\u001b[39;00m proxy \u001b[38;5;129;01mis\u001b[39;00m \u001b[38;5;28;01mNone\u001b[39;00m:\n\u001b[32m    156\u001b[39m     \u001b[38;5;28mself\u001b[39m._pool = httpcore.ConnectionPool(\n\u001b[32m    157\u001b[39m         ssl_context=ssl_context,\n\u001b[32m    158\u001b[39m         max_connections=limits.max_connections,\n\u001b[32m   (...)\u001b[39m\u001b[32m    166\u001b[39m         socket_options=socket_options,\n\u001b[32m    167\u001b[39m     )\n",
      "\u001b[36mFile \u001b[39m\u001b[32md:\\Current Projects\\AramAI\\.venv\\Lib\\site-packages\\httpx\\_config.py:40\u001b[39m, in \u001b[36mcreate_ssl_context\u001b[39m\u001b[34m(verify, cert, trust_env)\u001b[39m\n\u001b[32m     37\u001b[39m         ctx = ssl.create_default_context(capath=os.environ[\u001b[33m\"\u001b[39m\u001b[33mSSL_CERT_DIR\u001b[39m\u001b[33m\"\u001b[39m])\n\u001b[32m     38\u001b[39m     \u001b[38;5;28;01melse\u001b[39;00m:\n\u001b[32m     39\u001b[39m         \u001b[38;5;66;03m# Default case...\u001b[39;00m\n\u001b[32m---> \u001b[39m\u001b[32m40\u001b[39m         ctx = \u001b[43mssl\u001b[49m\u001b[43m.\u001b[49m\u001b[43mcreate_default_context\u001b[49m\u001b[43m(\u001b[49m\u001b[43mcafile\u001b[49m\u001b[43m=\u001b[49m\u001b[43mcertifi\u001b[49m\u001b[43m.\u001b[49m\u001b[43mwhere\u001b[49m\u001b[43m(\u001b[49m\u001b[43m)\u001b[49m\u001b[43m)\u001b[49m\n\u001b[32m     41\u001b[39m \u001b[38;5;28;01melif\u001b[39;00m verify \u001b[38;5;129;01mis\u001b[39;00m \u001b[38;5;28;01mFalse\u001b[39;00m:\n\u001b[32m     42\u001b[39m     ctx = ssl.SSLContext(ssl.PROTOCOL_TLS_CLIENT)\n",
      "\u001b[36mFile \u001b[39m\u001b[32m~\\.pyenv\\pyenv-win\\versions\\3.11.8\\Lib\\ssl.py:770\u001b[39m, in \u001b[36mcreate_default_context\u001b[39m\u001b[34m(purpose, cafile, capath, cadata)\u001b[39m\n\u001b[32m    767\u001b[39m     \u001b[38;5;28;01mraise\u001b[39;00m \u001b[38;5;167;01mValueError\u001b[39;00m(purpose)\n\u001b[32m    769\u001b[39m \u001b[38;5;28;01mif\u001b[39;00m cafile \u001b[38;5;129;01mor\u001b[39;00m capath \u001b[38;5;129;01mor\u001b[39;00m cadata:\n\u001b[32m--> \u001b[39m\u001b[32m770\u001b[39m     \u001b[43mcontext\u001b[49m\u001b[43m.\u001b[49m\u001b[43mload_verify_locations\u001b[49m\u001b[43m(\u001b[49m\u001b[43mcafile\u001b[49m\u001b[43m,\u001b[49m\u001b[43m \u001b[49m\u001b[43mcapath\u001b[49m\u001b[43m,\u001b[49m\u001b[43m \u001b[49m\u001b[43mcadata\u001b[49m\u001b[43m)\u001b[49m\n\u001b[32m    771\u001b[39m \u001b[38;5;28;01melif\u001b[39;00m context.verify_mode != CERT_NONE:\n\u001b[32m    772\u001b[39m     \u001b[38;5;66;03m# no explicit cafile, capath or cadata but the verify mode is\u001b[39;00m\n\u001b[32m    773\u001b[39m     \u001b[38;5;66;03m# CERT_OPTIONAL or CERT_REQUIRED. Let's try to load default system\u001b[39;00m\n\u001b[32m    774\u001b[39m     \u001b[38;5;66;03m# root CA certificates for the given purpose. This may fail silently.\u001b[39;00m\n\u001b[32m    775\u001b[39m     context.load_default_certs(purpose)\n",
      "\u001b[31mKeyboardInterrupt\u001b[39m: "
     ]
    }
   ],
   "source": [
    "## Make Sure the Docker is up and running (docker run -p 6333:6333 qdrant/qdrant)\n",
    "\n",
    "client = QdrantClient(url=qdrant_url,prefer_grpc=False)\n",
    "\n",
    "## Embedding Model\n",
    "embedding_model = OllamaEmbeddings(model=\"nomic-embed-text\")\n",
    "\n",
    "if deletecollection:\n",
    "    ## Create or reset collection\n",
    "    if client.collection_exists(COLLECTION_NAME):\n",
    "        client.delete_collection(COLLECTION_NAME)\n",
    "\n",
    "    client.create_collection(\n",
    "        collection_name=COLLECTION_NAME,\n",
    "        vectors_config=VectorParams(size=EMBED_DIMENSION, distance=DISTANCE)\n",
    "        )"
   ]
  },
  {
   "cell_type": "markdown",
   "id": "a1f7b360",
   "metadata": {},
   "source": [
    "### Testing Embedding time for different batches"
   ]
  },
  {
   "cell_type": "code",
   "execution_count": null,
   "id": "6241f406",
   "metadata": {},
   "outputs": [
    {
     "name": "stdout",
     "output_type": "stream",
     "text": [
      "\n",
      "Testing with chunk_size=1200\n",
      "Chunk size 1200: 1.36 seconds\n",
      "\n",
      "Testing with chunk_size=1800\n",
      "Chunk size 1800: 1.44 seconds\n",
      "\n",
      "Summary: {1200: 1.359623908996582, 1800: 1.4435272216796875}\n"
     ]
    }
   ],
   "source": [
    "import time\n",
    "from langchain.text_splitter import RecursiveCharacterTextSplitter\n",
    "\n",
    "# Different chunk sizes to test\n",
    "chunk_sizes = [1200, 1800]\n",
    "\n",
    "results = {}\n",
    "\n",
    "for chunk_size in chunk_sizes:\n",
    "    print(f\"\\nTesting with chunk_size={chunk_size}\")\n",
    "\n",
    "    # Re-split documents with this chunk size\n",
    "    text_splitter = RecursiveCharacterTextSplitter.from_tiktoken_encoder(\n",
    "        encoding_name=\"cl100k_base\",\n",
    "        chunk_size=chunk_size,\n",
    "        chunk_overlap=100  # keep same overlap or adjust if you like\n",
    "    )\n",
    "    chunks = text_splitter.split_documents(list_of_documents)  # assuming final_chunks = original docs\n",
    "\n",
    "    # Just test first batch (to keep fair)\n",
    "    batch = chunks[:32]   # or any fixed batch size\n",
    "    texts = [doc.page_content for doc in batch]\n",
    "\n",
    "    start = time.time()\n",
    "    embeddings = embedding_model.embed_documents(texts)\n",
    "    end = time.time()\n",
    "\n",
    "    elapsed = end - start\n",
    "    results[chunk_size] = elapsed\n",
    "    print(f\"Chunk size {chunk_size}: {elapsed:.2f} seconds\")\n",
    "\n",
    "print(\"\\nSummary:\", results)\n"
   ]
  },
  {
   "cell_type": "code",
   "execution_count": null,
   "id": "d120eb0d",
   "metadata": {},
   "outputs": [
    {
     "data": {
      "text/plain": [
       "2.954740047454834"
      ]
     },
     "execution_count": 153,
     "metadata": {},
     "output_type": "execute_result"
    }
   ],
   "source": [
    "texts =[doc.page_content for doc in final_chunks]\n",
    "start = time.time()\n",
    "batches = [final_chunks[i:i + 256] for i in range(0, len(final_chunks), 64)]\n",
    "\n",
    "texts = [doc.page_content for doc in batches[0]]\n",
    "metadatas = [doc.metadata for doc in batches[0]]\n",
    "\n",
    "embeddings = embedding_model.embed_documents(texts)\n",
    "end = time.time()\n",
    "end-start\n"
   ]
  },
  {
   "cell_type": "markdown",
   "id": "5f965d4a",
   "metadata": {},
   "source": [
    "### Testing Upserting time for different batches"
   ]
  },
  {
   "cell_type": "code",
   "execution_count": null,
   "id": "008b728b",
   "metadata": {},
   "outputs": [
    {
     "data": {
      "text/plain": [
       "0.07278108596801758"
      ]
     },
     "execution_count": 150,
     "metadata": {},
     "output_type": "execute_result"
    }
   ],
   "source": [
    "start = time.time()\n",
    "points = [\n",
    "    {\n",
    "        \"id\": str(uuid.uuid4()),\n",
    "        \"vector\": vector,\n",
    "        \"payload\": {**metadata, \"page_content\": text}\n",
    "    }\n",
    "\n",
    "    for vector, metadata, text in zip(embeddings, metadatas, texts)\n",
    "]\n",
    "\n",
    "client.upsert(collection_name=\"collection_1\", points=points)\n",
    "end = time.time()\n",
    "end-start"
   ]
  },
  {
   "cell_type": "markdown",
   "id": "79d3a682",
   "metadata": {},
   "source": [
    "### Continued"
   ]
  },
  {
   "cell_type": "code",
   "execution_count": 19,
   "id": "382e1198",
   "metadata": {},
   "outputs": [],
   "source": [
    "import time\n",
    "import uuid\n",
    "from concurrent.futures import ThreadPoolExecutor, as_completed\n",
    "from qdrant_client import QdrantClient\n",
    "from qdrant_client.http.models import VectorParams\n",
    "\n",
    "def embed_documents_to_qdrant(\n",
    "    client,\n",
    "    documents,\n",
    "    embedding_model,\n",
    "    batch_size=32,               # GPU embedding batch size\n",
    "    max_workers=8,                # Threads for parallel embedding\n",
    "    collection_name=COLLECTION_NAME,\n",
    "    vector_dim=EMBED_DIMENSION,\n",
    "    distance=DISTANCE,\n",
    "    qdrant_url=\"http://localhost:6333\"  # Use HTTP, gRPC optional\n",
    "):\n",
    "\n",
    "    # Split documents into batches\n",
    "    batches = [documents[i:i + batch_size] for i in range(0, len(documents), batch_size)]\n",
    "\n",
    "    # -------------------------------\n",
    "    # Function to embed + prepare points\n",
    "    # -------------------------------\n",
    "    def process_batch(batch, batch_id):\n",
    "        texts = [doc.page_content for doc in batch]\n",
    "        metadatas = [doc.metadata for doc in batch]\n",
    "\n",
    "        # Embed documents (GPU efficient)\n",
    "        embeddings = embedding_model.embed_documents(texts)\n",
    "\n",
    "        # Prepare points for Qdrant\n",
    "        points = [\n",
    "            {\n",
    "                \"id\": str(uuid.uuid4()),\n",
    "                \"vector\": vector,\n",
    "                \"payload\": {**metadata, \"page_content\": text}\n",
    "            }\n",
    "            for vector, metadata, text in zip(embeddings, metadatas, texts)\n",
    "        ]\n",
    "\n",
    "        # Upsert to Qdrant\n",
    "        client.upsert(collection_name=collection_name, points=points)\n",
    "\n",
    "        return len(batch), batch_id\n",
    "\n",
    "    # -------------------------------\n",
    "    # Run threaded batches\n",
    "    # -------------------------------\n",
    "    start = time.time()\n",
    "    with ThreadPoolExecutor(max_workers=max_workers) as executor:\n",
    "        futures = [executor.submit(process_batch, batch, i) for i, batch in enumerate(batches)]\n",
    "        for future in tqdm(as_completed(futures), total=len(futures), desc=\"Embedding batches\"):\n",
    "            count, batch_id = future.result()\n",
    "\n",
    "    end = time.time()\n",
    "    print(f\"\\n✅ Completed {len(documents)} chunks in {end - start:.2f} seconds\")\n"
   ]
  },
  {
   "cell_type": "code",
   "execution_count": 20,
   "id": "9bba4a6a",
   "metadata": {},
   "outputs": [
    {
     "name": "stderr",
     "output_type": "stream",
     "text": [
      "Embedding batches: 100%|██████████| 315/315 [04:29<00:00,  1.17it/s]"
     ]
    },
    {
     "name": "stdout",
     "output_type": "stream",
     "text": [
      "\n",
      "✅ Completed 10072 chunks in 269.44 seconds\n"
     ]
    },
    {
     "name": "stderr",
     "output_type": "stream",
     "text": [
      "\n"
     ]
    }
   ],
   "source": [
    "embed_documents_to_qdrant(\n",
    "    client,\n",
    "    final_chunks,\n",
    "    embedding_model,\n",
    ")"
   ]
  },
  {
   "cell_type": "markdown",
   "id": "0300f1e0",
   "metadata": {},
   "source": [
    "## Retriever"
   ]
  },
  {
   "cell_type": "code",
   "execution_count": null,
   "id": "f627a3b0",
   "metadata": {},
   "outputs": [],
   "source": [
    "from qdrant_client import QdrantClient\n",
    "from langchain_qdrant import QdrantVectorStore\n",
    "qdrant_url = \"http://localhost:6333\"\n",
    "COLLECTION_NAME=\"Union_law_docs\""
   ]
  },
  {
   "cell_type": "code",
   "execution_count": null,
   "id": "04bbfbe6",
   "metadata": {},
   "outputs": [],
   "source": [
    "\n",
    "## Intialize Client\n",
    "client = QdrantClient(\n",
    "    url=qdrant_url,\n",
    "    prefer_grpc=False \n",
    ")\n",
    "\n",
    "#Create or Load VectorStore\n",
    "vectorstore = QdrantVectorStore(\n",
    "    client=client,\n",
    "    embedding=OllamaEmbeddings(model=\"nomic-embed-text\"),\n",
    "    collection_name=COLLECTION_NAME\n",
    ")"
   ]
  },
  {
   "cell_type": "code",
   "execution_count": null,
   "id": "7e41b08b",
   "metadata": {},
   "outputs": [],
   "source": [
    "#Create Retriever\n",
    "retriever = vectorstore.as_retriever()"
   ]
  },
  {
   "cell_type": "code",
   "execution_count": null,
   "id": "e18cc36d",
   "metadata": {},
   "outputs": [],
   "source": [
    "query=\"What is the penalty for me if I kill a wild animal\""
   ]
  },
  {
   "cell_type": "code",
   "execution_count": null,
   "id": "a12197ea",
   "metadata": {},
   "outputs": [
    {
     "data": {
      "text/plain": [
       "[Document(metadata={'_id': '0822205b-732c-4176-a1b9-faf3f76355f7', '_collection_name': 'Union_law_docs'}, page_content='Saving. - Nothing in this Act shall be deemed to apply to the capture or killing of a wild animal by any person in defence of himself or any other person, or to the capture or killing of any wild bird or animal in bona fide defence of property. The Schedule (i) Bustards, ducks, floricans, jungle fowl, partridges, peafowl, pheasants, pigeons quail, sand-grouse, painted snipe, spurfowl, wood-cock, nerons, egrets, rollers and kingfishers. (ii) Antelopes, asses, bison, buffaloes, deer, gazelles, goats, hares, oxen, rhinoceroses and sheep.'),\n",
       " Document(metadata={'_id': '16358dda-a79f-47c6-8fb1-f6d7ac0c1522', '_collection_name': 'Union_law_docs'}, page_content='7. Penalty for contravening section 3.-Whoever, in contravention of section 3, kills, injures or captures, or attempts to kill, injure or capture, any wild elephant, shall be punished with fine which may extend to five hundred rupees for each elephant concerned; and whoever breaks any condition contained in a license granted under this Act shall be punished with fine which may extend to five hundred rupees. Any person convicted of a second offence under this section shall be punished with imprisonment which may extend to six months, or with fine, or with both. When any person holding a license under this Act is convicted under this section, such license shall become void and shall be delivered up to the convicting Magistrate. 8. License to be produced and shown on requisition of certain officers .--Any officer of Revenue or Police, or any forest officer, who may find any person killing, injuring or attempting to kill, injure or capture, any wild elephant, except in the cases mentioned in section 3, clauses (a) and (b), may require him to produce and show a license granted to him under this Act. Any person who, on such request, wilfully ref'),\n",
       " Document(metadata={'_id': '8e29df15-64cc-469f-b92d-c538d9e4aae2', '_collection_name': 'Union_law_docs'}, page_content='6. For definition of \"Magistrate\", see s. 21, infra. 7. The word \"Chief\" rep. by Act 10 of 1914, s. 3 and the Second Schedule. 8. Subs. by Act 1 of 1898, s. 3, for the original paragraph. 9. Subs. by the A.O. 1950, for \"Provincial Government\" which had been subs. by the A.O. 1937, for \"L.G.\" 5. Particulars to be painted on conspicuous part of carriage. On any stage-carriage being licensed, the proprietor thereof shall cause the number of the license and all the other particulars of the license to be distinctly painted in the English language and character upon a conspicuous part of such stage-carriage. 6. Penalty for letting carriage without having particulars painted. The proprietor of any licensed stage-carriage who shall let such stage-carriage for hire without the particulars specified in section 3 being painted on such carriage in the manner directed in the last preceding section, shall be liable to a fine not exceeding one hundred rupees. 7. Penalty for letting for hire unlicensed carriage. Whoever lets for hire any stage-carriagewithout the same being licensed as provided by this Act, shall be liable, on a first conviction, to a fine not exceeding one hundred rupees, and on any subsequent conviction, to a fine which may extend to five hundred rupees. 8. Penalty for allowing carriage to be drawn by fewer animals or more passengers, etc., to be carried than provided by license. Any proprietor, or agent of a proprietor, or any driver of a licensed stage-carriage, who, knowingly permits such carriage to be drawn by a less number of horses, or who knowingly permits a larger number of passengers, or a greater weight of luggage, to be carried by such stage-carriage than shall be provided by the license, shall be liable on a first conviction to a fine not exceeding one hundred rupees, and on any subsequent conviction, to a fine which may extend to five hundred rupees. In every case where such stage-carriage shall be proved to have been drawn by a less number of horses, or to have carried a larger number of passengers or a greater weight of luggage, than shall be provided by the license, the proprietor of such carriage shall be held to have knowingly permitted such offence, unless he shall prove that the offence was not committed with his connivance, and that he had taken every reasonable precaution and had made reasonable provision to prevent the commission of the offence. 9. Penalty for ill-treating animals. Any person who shall cruelly beat, ill-treat, over-drive,abuse, torture or cause or procure to be cruelly beaten, ill-treated, overdriven, abused or tortured, any horse '),\n",
       " Document(metadata={'_id': 'f278cde1-bed9-4af4-93df-fe04193b823f', '_collection_name': 'Union_law_docs'}, page_content='The Wild Birds and Animals (Protection) Act, 1912 (Act No. 8 of 1912 ) Last Updated 27th June, 2019 [Dated 18th September, 1912] An Act to make better provision for the protection and preservation of certain wild birds ana animals. Whereas it is expedient to make better provision for the protection and preservation of certain wild birds and animals; It is hereby enacted as follows : 1. Short title and extent. - This Act may be called the Wild Birds and Animals (Protection) Act, 1912. 2. Application of Act. (1) This Act applies in tire first instance to the birds and animals specified in the Schedule, when in their wild state. (2) The State Government may, by notification in the Official Gazette, apply the provisions of this Act to any kind or wild bird or animal, other than those specified in the Schedule, which in its opinion, it is desirable to protect or preserve. 3. Close time. - The State Government may, by notification in the Official Gazette, declare the whole year or any part thereof to be a close time throughout the whole or any part of its territories for any kind of wild bird or animal to which this Act applies, or for female or immarare wild birds or animals of such kind; and subject to the provisions hereinafter contained, during such close time, and within the areas specified in such notification, it shall be unlawful,- (a) to capture any such bird or animal, or to kill any such bird or animal which has not been captured before the commencement of such close time; (b) to sell or buy, or offer to sell or buy, or to possess; any such bird or animal which has not been captured or killed before the commencement of such close time, or the fresh thereof; (c) if any plumage has been taken from any such bird captured or killed during such close time, to sell or Huy, or to offer to sell or buy, or to possess, such plumage. 4.')]"
      ]
     },
     "execution_count": 85,
     "metadata": {},
     "output_type": "execute_result"
    }
   ],
   "source": [
    "retriever.invoke(query)\n"
   ]
  },
  {
   "cell_type": "code",
   "execution_count": null,
   "id": "4a43ce59",
   "metadata": {},
   "outputs": [],
   "source": []
  }
 ],
 "metadata": {
  "kernelspec": {
   "display_name": ".venv",
   "language": "python",
   "name": "python3"
  },
  "language_info": {
   "codemirror_mode": {
    "name": "ipython",
    "version": 3
   },
   "file_extension": ".py",
   "mimetype": "text/x-python",
   "name": "python",
   "nbconvert_exporter": "python",
   "pygments_lexer": "ipython3",
   "version": "3.12.3"
  }
 },
 "nbformat": 4,
 "nbformat_minor": 5
}
